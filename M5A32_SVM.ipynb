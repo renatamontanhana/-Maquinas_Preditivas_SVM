{
  "nbformat": 4,
  "nbformat_minor": 0,
  "metadata": {
    "colab": {
      "provenance": [],
      "collapsed_sections": [
        "H0P73i8GNijT",
        "T5b2M17ROys9",
        "sT_OJ0fWPLi9",
        "6FYLYCPLQT4f",
        "8-Vspe-DQhrq",
        "X2LRojybSYuY"
      ],
      "include_colab_link": true
    },
    "kernelspec": {
      "name": "python3",
      "display_name": "Python 3"
    },
    "accelerator": "GPU"
  },
  "cells": [
    {
      "cell_type": "markdown",
      "metadata": {
        "id": "view-in-github",
        "colab_type": "text"
      },
      "source": [
        "<a href=\"https://colab.research.google.com/github/renatamontanhana/-Maquinas_Preditivas_SVM/blob/main/M5A32_SVM.ipynb\" target=\"_parent\"><img src=\"https://colab.research.google.com/assets/colab-badge.svg\" alt=\"Open In Colab\"/></a>"
      ]
    },
    {
      "cell_type": "markdown",
      "metadata": {
        "id": "7sWA2GsxM2l-"
      },
      "source": [
        "![alt text](https://encrypted-tbn0.gstatic.com/images?q=tbn%3AANd9GcTK4gQ9nhwHHaSXMHpeggWg7twwMCgb877smkRmtkmDeDoGF9Z6&usqp=CAU)"
      ]
    },
    {
      "cell_type": "markdown",
      "metadata": {
        "id": "7oiQVQi0AJ6D"
      },
      "source": [
        "# <font color='BLUE'>Cientista de Dados na Prática </font>\n",
        "\n",
        "# <font color='Purple'>Módulo 5 - Máquinas Preditivas</font>\n",
        "\n",
        "### <font color='GREY'> SVM - Support Vector Machines </font>  \n",
        "\n",
        "\n",
        "\n"
      ]
    },
    {
      "cell_type": "markdown",
      "metadata": {
        "id": "H0P73i8GNijT"
      },
      "source": [
        "# 1° Problema de Negócio\n",
        "\n",
        "Usando SVM Para Prever a Intenção de Compra de Usuários de E-*Commerce*.\n",
        "\n",
        "Queremos saber se o cliente **está ou não propenso a comprar** produtos no seu site, para que o departamento de Marketing faça campanhas de vendas direcionadas a esses clientes.\n",
        "\n"
      ]
    },
    {
      "cell_type": "markdown",
      "metadata": {
        "id": "ohTlTY0Dlwoy"
      },
      "source": [
        "![alt text](https://encrypted-tbn0.gstatic.com/images?q=tbn%3AANd9GcQ1bshmktEZsMtTteqrtnLAF2I-EJptURO-cA&usqp=CAU)\n"
      ]
    },
    {
      "cell_type": "markdown",
      "metadata": {
        "id": "55WKRM9WOWnX"
      },
      "source": [
        "#### **Fonte de Dados**\n",
        "Online Shoppers Purchasing Intention Dataset\n",
        "\n",
        "https://archive.ics.uci.edu/ml/datasets/Online+Shoppers+Purchasing+Intention+Dataset\n",
        "\n",
        "O conjunto de dados consiste em uma pancada de variáveis pertencentes a 12.330 sessões online. O conjunto de dados foi formado de modo que cada sessão pertença a um usuário diferente em um período de 1 ano para evitar qualquer tendência para uma campanha específica, dia especial, usuário, perfil ou período.\n",
        "\n",
        "O conjunto de dados consiste em 10 atributos numéricos e 8 categóricos. O atributo 'Revenue' (target) (\"true\" or \"false\") pode ser usado como o rótulo da classe."
      ]
    },
    {
      "cell_type": "markdown",
      "metadata": {
        "id": "T5b2M17ROys9"
      },
      "source": [
        "#2° Análise Exploratória dos Dados"
      ]
    },
    {
      "cell_type": "markdown",
      "metadata": {
        "id": "1QBDTdEEguWy"
      },
      "source": [
        "## Importando os Pacotes"
      ]
    },
    {
      "cell_type": "code",
      "metadata": {
        "id": "qeNUaYlpguW7"
      },
      "source": [
        "# Instala o pacote watermark.\n",
        "# Esse pacote é usado para gravar as versões de outros pacotes usados neste jupyter notebook.\n",
        "!pip install -q -U watermark"
      ],
      "execution_count": null,
      "outputs": []
    },
    {
      "cell_type": "code",
      "metadata": {
        "id": "9GM--p9YguXD"
      },
      "source": [
        "# Imports\n",
        "import time\n",
        "import numpy as np\n",
        "import pandas as pd\n",
        "import seaborn as sns\n",
        "import matplotlib.pyplot as plt\n",
        "from sklearn.preprocessing import StandardScaler\n",
        "from sklearn.preprocessing import LabelEncoder\n",
        "from sklearn.model_selection import train_test_split\n",
        "from sklearn.model_selection import GridSearchCV\n",
        "from sklearn.metrics import precision_score, recall_score, f1_score, accuracy_score, roc_auc_score\n",
        "from sklearn import svm\n",
        "import sklearn\n",
        "import matplotlib\n",
        "import warnings\n",
        "warnings.filterwarnings('ignore')"
      ],
      "execution_count": null,
      "outputs": []
    },
    {
      "cell_type": "code",
      "metadata": {
        "id": "c5k-kK7kguXK"
      },
      "source": [
        "# Versões dos pacotes usados neste jupyter notebook\n",
        "%reload_ext watermark\n",
        "%watermark -a \"Ciêntista de dados na Prática\" --iversions"
      ],
      "execution_count": null,
      "outputs": []
    },
    {
      "cell_type": "markdown",
      "metadata": {
        "id": "V6Wy5xPOguXR"
      },
      "source": [
        "## Carga dos Dados"
      ]
    },
    {
      "cell_type": "code",
      "metadata": {
        "id": "A_r8D7-uguXT"
      },
      "source": [
        "# Carregando os dados\n",
        "df_original = pd.read_csv('/content/online_shoppers_intention.csv')\n",
        "df_original.head()"
      ],
      "execution_count": null,
      "outputs": []
    },
    {
      "cell_type": "markdown",
      "metadata": {
        "id": "sT_OJ0fWPLi9"
      },
      "source": [
        "## AD - Arquitetura dos Dados"
      ]
    },
    {
      "cell_type": "markdown",
      "metadata": {
        "id": "R31FiAm5PU4c"
      },
      "source": [
        "**\"Administrativo\", \"Duração administrativa\", \"Informativo\", \"Duração informativo\", \"Relacionado ao produto\" e \"Duração relacionada ao produto\"** representam o número de diferentes tipos de páginas visitadas pelo visitante nessa sessão e o tempo total gasto em cada uma dessas categorias de página. Os valores desses recursos são derivados das informações de URL das páginas visitadas pelo usuário e atualizadas em tempo real quando um usuário executa uma ação, por exemplo, passando de uma página para outra.\n",
        "\n",
        "Os recursos **\"Taxa de rejeição\", \"Taxa de saída\" e \"Valor da página\" **representam as métricas medidas pelo \"Google Analytics\" para cada página no site de comércio eletrônico.\n",
        "\n",
        "O valor do recurso **\"Taxa de rejeição\"** de uma página da web refere-se à porcentagem de visitantes que entram no site a partir dessa página e saem (\"rejeição\") sem acionar outras solicitações ao servidor durante essa sessão.\n",
        "\n",
        "O valor do recurso **\"Taxa de saída\"** para uma página da web específica é calculado como a porcentagem que foi a última na sessão, para todas as exibições de página a página.\n",
        "\n",
        "O recurso **\"Valor da página\"** representa o valor médio para uma página da web que um usuário visitou antes de concluir uma transação de comércio eletrônico.\n",
        "\n",
        "O recurso **\"Dia especial\"** indica a proximidade do horário de visita do site a um dia especial específico (por exemplo, dia das mães, dia dos namorados) em que as sessões têm mais probabilidade de serem finalizadas com a transação. O valor desse atributo é determinado considerando a dinâmica do comércio eletrônico, como a duração entre a data do pedido e a data de entrega. Por exemplo, no dia dos namorados, esse valor assume um valor diferente de zero entre 2 e 12 de fevereiro (dia dos namorados nos EUA e Europa), zero antes e depois dessa data, a menos que esteja próximo de outro dia especial e seu valor máximo de 1 em 8 de fevereiro.\n",
        "\n",
        "O conjunto de dados também inclui o tipo de **sistema operacional, navegador, região, tipo de tráfego, tipo de visitante como visitante novo ou recorrente, um valor booleano indicando se a data da visita é final de semana e mês do ano.**\n",
        "\n",
        "A variável alvo **(Revenue)** é booleana, com **True se a sessão gerou** **receita** e False se não gerou."
      ]
    },
    {
      "cell_type": "markdown",
      "metadata": {
        "id": "DP8c7YB2guXc"
      },
      "source": [
        "## Explorando Dados"
      ]
    },
    {
      "cell_type": "code",
      "metadata": {
        "id": "z-M0prpqguXd",
        "outputId": "49564552-02ee-4bef-cc52-2a80b1ba0534",
        "colab": {
          "base_uri": "https://localhost:8080/"
        }
      },
      "source": [
        "# Shape\n",
        "df_original.shape"
      ],
      "execution_count": null,
      "outputs": [
        {
          "output_type": "execute_result",
          "data": {
            "text/plain": [
              "(12330, 18)"
            ]
          },
          "metadata": {
            "tags": []
          },
          "execution_count": 38
        }
      ]
    },
    {
      "cell_type": "code",
      "metadata": {
        "id": "cl-rws1nguXk"
      },
      "source": [
        "# Tipos de Dados\n",
        "df_original.dtypes"
      ],
      "execution_count": null,
      "outputs": []
    },
    {
      "cell_type": "code",
      "metadata": {
        "id": "i3ZsWbgqguXq"
      },
      "source": [
        "# Verificando valores missing\n",
        "print(df_original.isna().sum())"
      ],
      "execution_count": null,
      "outputs": []
    },
    {
      "cell_type": "code",
      "metadata": {
        "id": "0__j21nyguXu"
      },
      "source": [
        "# Removendo as linhas com valores missing\n",
        "df_original.dropna(inplace = True)"
      ],
      "execution_count": null,
      "outputs": []
    },
    {
      "cell_type": "code",
      "metadata": {
        "id": "tNnZlFrFguXx"
      },
      "source": [
        "# Verificando valores missing\n",
        "print(df_original.isna().sum())"
      ],
      "execution_count": null,
      "outputs": []
    },
    {
      "cell_type": "code",
      "metadata": {
        "id": "inqEY6VDguX0",
        "outputId": "f1d04655-5d95-42f5-b10c-e0c0feecdeed",
        "colab": {
          "base_uri": "https://localhost:8080/"
        }
      },
      "source": [
        "# Shape\n",
        "df_original.shape"
      ],
      "execution_count": null,
      "outputs": [
        {
          "output_type": "execute_result",
          "data": {
            "text/plain": [
              "(12316, 18)"
            ]
          },
          "metadata": {
            "tags": []
          },
          "execution_count": 43
        }
      ]
    },
    {
      "cell_type": "code",
      "metadata": {
        "id": "SN9anJQaguX4"
      },
      "source": [
        "# Verificando Valores Únicos\n",
        "df_original.nunique()"
      ],
      "execution_count": null,
      "outputs": []
    },
    {
      "cell_type": "markdown",
      "metadata": {
        "id": "PqR1rqU2guX9"
      },
      "source": [
        "Para fins de visualização, dividiremos os dados em variáveis **contínuas e categóricas**. Trataremos todas as variáveis com menos de 30 entradas únicas como categóricas."
      ]
    },
    {
      "cell_type": "code",
      "metadata": {
        "id": "DTWH2Gn4guX-"
      },
      "source": [
        "# Preparando os dados para o plot\n",
        "\n",
        "# Cria uma cópia do dataset original\n",
        "df = df_original.copy()\n",
        "\n",
        "# Listas vazias para os resultados\n",
        "continuous = []\n",
        "categorical = []\n",
        "\n",
        "# Loop pelas colunas\n",
        "for c in df.columns[:-1]:\n",
        "    if df.nunique()[c] >= 30:\n",
        "        continuous.append(c)\n",
        "    else:\n",
        "        categorical.append(c)"
      ],
      "execution_count": null,
      "outputs": []
    },
    {
      "cell_type": "code",
      "metadata": {
        "id": "xR1MibYQguYA"
      },
      "source": [
        "continuous"
      ],
      "execution_count": null,
      "outputs": []
    },
    {
      "cell_type": "code",
      "metadata": {
        "id": "95b2viAprw7N"
      },
      "source": [
        "categorical"
      ],
      "execution_count": null,
      "outputs": []
    },
    {
      "cell_type": "code",
      "metadata": {
        "id": "ou8_QKOUguYE"
      },
      "source": [
        "# Variáveis contínuas\n",
        "df[continuous].head()"
      ],
      "execution_count": null,
      "outputs": []
    },
    {
      "cell_type": "code",
      "metadata": {
        "id": "m7A1cpzBguYI"
      },
      "source": [
        "# Variáveis categóricas\n",
        "df[categorical].head()"
      ],
      "execution_count": null,
      "outputs": []
    },
    {
      "cell_type": "markdown",
      "metadata": {
        "id": "W0QApB6RguYL"
      },
      "source": [
        "Gráficos para variáveis numéricas."
      ]
    },
    {
      "cell_type": "code",
      "metadata": {
        "id": "VnLAdzzqguYM"
      },
      "source": [
        "# Plot das variáveis contínuas\n",
        "\n",
        "# Tamanho da área de plotagem\n",
        "fig = plt.figure(figsize = (15,10))\n",
        "\n",
        "# Loop pelas variáveis contínuas\n",
        "for i, col in enumerate(continuous):\n",
        "    plt.subplot(3, 3, i + 1);\n",
        "    df.boxplot(col);\n",
        "    plt.tight_layout()\n",
        "\n",
        "plt.savefig('boxplot1.png')"
      ],
      "execution_count": null,
      "outputs": []
    },
    {
      "cell_type": "markdown",
      "metadata": {
        "id": "kW8NCDouguYO"
      },
      "source": [
        "Variáveis contínuas parecem extremamente distorcidas. Vamos aplicar transformação de log para melhor visualização."
      ]
    },
    {
      "cell_type": "code",
      "metadata": {
        "id": "TN689jiRguYP"
      },
      "source": [
        "# Transformação de log nas variáveis contínuas\n",
        "df[continuous] = np.log1p(1 + df[continuous])"
      ],
      "execution_count": null,
      "outputs": []
    },
    {
      "cell_type": "code",
      "metadata": {
        "id": "IvI1OOmIguYR",
        "outputId": "352ef283-a339-42fe-c7c7-97b96e1d01b7",
        "colab": {
          "base_uri": "https://localhost:8080/",
          "height": 729
        }
      },
      "source": [
        "# Plot das variáveis contínuas\n",
        "\n",
        "# Tamanho da área de plotagem\n",
        "fig = plt.figure(figsize = (15,10))\n",
        "\n",
        "# Loop pelas variáveis contínuas\n",
        "for i,col in enumerate(continuous):\n",
        "    plt.subplot(3,3,i+1);\n",
        "    df.boxplot(col);\n",
        "    plt.tight_layout()\n",
        "plt.savefig('boxplot2.png')"
      ],
      "execution_count": null,
      "outputs": [
        {
          "output_type": "display_data",
          "data": {
            "image/png": "[encoded data removed]",
            "text/plain": [
              "<Figure size 1080x720 with 7 Axes>"
            ]
          },
          "metadata": {
            "tags": [],
            "needs_background": "light"
          }
        }
      ]
    },
    {
      "cell_type": "markdown",
      "metadata": {
        "id": "Eee6iQNjguYU"
      },
      "source": [
        "Matriz de Correlação Entre Variáveis Contínuas."
      ]
    },
    {
      "cell_type": "code",
      "metadata": {
        "id": "GXFfgsfNguYV",
        "outputId": "b2889d06-7aaf-4c93-bba6-18eb8ee76287",
        "colab": {
          "base_uri": "https://localhost:8080/",
          "height": 678
        }
      },
      "source": [
        "# Área de plotagem\n",
        "plt.figure(figsize = (10,10))\n",
        "\n",
        "# Matriz de Correlação\n",
        "sns.heatmap(df[['Administrative_Duration',\n",
        "                'Informational_Duration',\n",
        "                'ProductRelated_Duration',\n",
        "                'BounceRates',\n",
        "                'ExitRates',\n",
        "                'PageValues',\n",
        "                'Revenue']].corr(), vmax = 1., square = True)"
      ],
      "execution_count": null,
      "outputs": [
        {
          "output_type": "execute_result",
          "data": {
            "text/plain": [
              "<matplotlib.axes._subplots.AxesSubplot at 0x7f00d3c87be0>"
            ]
          },
          "metadata": {
            "tags": []
          },
          "execution_count": 59
        },
        {
          "output_type": "display_data",
          "data": {
            "image/png": "[encoded data removed]",
            "text/plain": [
              "<Figure size 720x720 with 2 Axes>"
            ]
          },
          "metadata": {
            "tags": [],
            "needs_background": "light"
          }
        }
      ]
    },
    {
      "cell_type": "markdown",
      "metadata": {
        "id": "tlpV1JuvguYY"
      },
      "source": [
        "Visualização de gráficos de variáveis categóricas para analisar como a variável de destino é influenciada por elas."
      ]
    },
    {
      "cell_type": "code",
      "metadata": {
        "id": "l2SXNIAZguYZ",
        "outputId": "bc64c02c-9995-4d95-b249-90fab8bfed52",
        "colab": {
          "base_uri": "https://localhost:8080/",
          "height": 312
        }
      },
      "source": [
        "# Countplot Venda ou Não\n",
        "plt.subplot(1,2,2)\n",
        "plt.title(\"Venda ou Não\")\n",
        "sns.countplot(df['Revenue'])"
      ],
      "execution_count": null,
      "outputs": [
        {
          "output_type": "execute_result",
          "data": {
            "text/plain": [
              "<matplotlib.axes._subplots.AxesSubplot at 0x7f00d0721400>"
            ]
          },
          "metadata": {
            "tags": []
          },
          "execution_count": 60
        },
        {
          "output_type": "display_data",
          "data": {
            "image/png": "[encoded data removed]",
            "text/plain": [
              "<Figure size 432x288 with 1 Axes>"
            ]
          },
          "metadata": {
            "tags": [],
            "needs_background": "light"
          }
        }
      ]
    },
    {
      "cell_type": "code",
      "metadata": {
        "id": "OPDwID-iguYc"
      },
      "source": [
        "# Countplot Tipo de Visitante\n",
        "plt.xlabel(\"Tipo de Visitante\")\n",
        "sns.countplot(df['VisitorType'])"
      ],
      "execution_count": null,
      "outputs": []
    },
    {
      "cell_type": "code",
      "metadata": {
        "id": "2bNhX_-7guYh",
        "outputId": "674f93b1-96fd-47ca-e03f-77ac4e18fe10",
        "colab": {
          "base_uri": "https://localhost:8080/",
          "height": 406
        }
      },
      "source": [
        "# Stacked Bar Tipo de Visitante x Revenue\n",
        "pd.crosstab(df['VisitorType'], df['Revenue']).plot(kind = 'bar',\n",
        "                                                   stacked = True,\n",
        "                                                   figsize = (20, 5),\n",
        "                                                   color = ['red', 'green'])"
      ],
      "execution_count": null,
      "outputs": [
        {
          "output_type": "execute_result",
          "data": {
            "text/plain": [
              "<matplotlib.axes._subplots.AxesSubplot at 0x7f00d1351c88>"
            ]
          },
          "metadata": {
            "tags": []
          },
          "execution_count": 61
        },
        {
          "output_type": "display_data",
          "data": {
            "image/png": "[encoded data removed]",
            "text/plain": [
              "<Figure size 1440x360 with 1 Axes>"
            ]
          },
          "metadata": {
            "tags": [],
            "needs_background": "light"
          }
        }
      ]
    },
    {
      "cell_type": "code",
      "metadata": {
        "id": "UNNMwqfHguYk"
      },
      "source": [
        "# Pie Chart Tipos de Visitantes\n",
        "labels = ['Visitante_Retornando', 'Novo_Visitante', 'Outro']\n",
        "plt.title(\"Tipos de Visitantes\")\n",
        "plt.pie(df['VisitorType'].value_counts(), labels = labels, autopct = '%.2f%%')\n",
        "plt.legend()"
      ],
      "execution_count": null,
      "outputs": []
    },
    {
      "cell_type": "code",
      "metadata": {
        "id": "9y_NgPEdguYn"
      },
      "source": [
        "# Countplot Final de Semana ou Não\n",
        "plt.subplot(1,2,1)\n",
        "plt.title(\"Final de Semana ou Não\")\n",
        "sns.countplot(df['Weekend'])"
      ],
      "execution_count": null,
      "outputs": []
    },
    {
      "cell_type": "code",
      "metadata": {
        "id": "Q0wbituaguYq"
      },
      "source": [
        "# Stacked Bar Final de Semana x Revenue\n",
        "pd.crosstab(df['Weekend'], df['Revenue']).plot(kind = 'bar',\n",
        "                                               stacked = True,\n",
        "                                               figsize = (15, 5),\n",
        "                                               color = ['red', 'green'])"
      ],
      "execution_count": null,
      "outputs": []
    },
    {
      "cell_type": "code",
      "metadata": {
        "id": "BifzfabgguYt"
      },
      "source": [
        "# Countplot Tipos de Sistemas Operacionais\n",
        "#plt.figure(figsize = (15,6))\n",
        "plt.title(\"Tipos de Sistemas Operacionais\")\n",
        "plt.xlabel(\"Sistema Operacional Usado\")\n",
        "sns.countplot(df['OperatingSystems'])"
      ],
      "execution_count": null,
      "outputs": []
    },
    {
      "cell_type": "code",
      "metadata": {
        "id": "Oj1u7JNXguYw"
      },
      "source": [
        "# Stacked Bar Tipo de SO x Revenue\n",
        "pd.crosstab(df['OperatingSystems'], df['Revenue']).plot(kind = 'bar',\n",
        "                                                        stacked = True,\n",
        "                                                        figsize = (15, 5),\n",
        "                                                        color = ['red', 'green'])"
      ],
      "execution_count": null,
      "outputs": []
    },
    {
      "cell_type": "code",
      "metadata": {
        "id": "jq9LIHq3guYz"
      },
      "source": [
        "# Countplot Tipo de Tráfego\n",
        "plt.title(\"Tipos de Tráfego\")\n",
        "plt.xlabel(\"Tipo de Tráfego\")\n",
        "sns.countplot(df['TrafficType'])"
      ],
      "execution_count": null,
      "outputs": []
    },
    {
      "cell_type": "code",
      "metadata": {
        "id": "URRUZWVUguY2"
      },
      "source": [
        "# Stacked Bar Tipos de Tráfego x Revenue\n",
        "pd.crosstab(df['TrafficType'], df['Revenue']).plot(kind = 'bar',\n",
        "                                                   stacked = True,\n",
        "                                                   figsize = (15, 5),\n",
        "                                                   color = ['red', 'green'])"
      ],
      "execution_count": null,
      "outputs": []
    },
    {
      "cell_type": "markdown",
      "metadata": {
        "id": "6FYLYCPLQT4f"
      },
      "source": [
        "#3° Pré-Processamento dos Dados"
      ]
    },
    {
      "cell_type": "code",
      "metadata": {
        "id": "Lz5GaqbwguY8",
        "outputId": "ce96a247-5351-40b6-9ba7-f464578d3bc5",
        "colab": {
          "base_uri": "https://localhost:8080/",
          "height": 218
        }
      },
      "source": [
        "df_original.head()"
      ],
      "execution_count": null,
      "outputs": [
        {
          "output_type": "execute_result",
          "data": {
            "text/html": [
              "<div>\n",
              "<style scoped>\n",
              "    .dataframe tbody tr th:only-of-type {\n",
              "        vertical-align: middle;\n",
              "    }\n",
              "\n",
              "    .dataframe tbody tr th {\n",
              "        vertical-align: top;\n",
              "    }\n",
              "\n",
              "    .dataframe thead th {\n",
              "        text-align: right;\n",
              "    }\n",
              "</style>\n",
              "<table border=\"1\" class=\"dataframe\">\n",
              "  <thead>\n",
              "    <tr style=\"text-align: right;\">\n",
              "      <th></th>\n",
              "      <th>Administrative</th>\n",
              "      <th>Administrative_Duration</th>\n",
              "      <th>Informational</th>\n",
              "      <th>Informational_Duration</th>\n",
              "      <th>ProductRelated</th>\n",
              "      <th>ProductRelated_Duration</th>\n",
              "      <th>BounceRates</th>\n",
              "      <th>ExitRates</th>\n",
              "      <th>PageValues</th>\n",
              "      <th>SpecialDay</th>\n",
              "      <th>Month</th>\n",
              "      <th>OperatingSystems</th>\n",
              "      <th>Browser</th>\n",
              "      <th>Region</th>\n",
              "      <th>TrafficType</th>\n",
              "      <th>VisitorType</th>\n",
              "      <th>Weekend</th>\n",
              "      <th>Revenue</th>\n",
              "    </tr>\n",
              "  </thead>\n",
              "  <tbody>\n",
              "    <tr>\n",
              "      <th>0</th>\n",
              "      <td>0.0</td>\n",
              "      <td>0.0</td>\n",
              "      <td>0.0</td>\n",
              "      <td>0.0</td>\n",
              "      <td>1.0</td>\n",
              "      <td>0.000000</td>\n",
              "      <td>0.20</td>\n",
              "      <td>0.20</td>\n",
              "      <td>0.0</td>\n",
              "      <td>0.0</td>\n",
              "      <td>Feb</td>\n",
              "      <td>1</td>\n",
              "      <td>1</td>\n",
              "      <td>1</td>\n",
              "      <td>1</td>\n",
              "      <td>Returning_Visitor</td>\n",
              "      <td>False</td>\n",
              "      <td>False</td>\n",
              "    </tr>\n",
              "    <tr>\n",
              "      <th>1</th>\n",
              "      <td>0.0</td>\n",
              "      <td>0.0</td>\n",
              "      <td>0.0</td>\n",
              "      <td>0.0</td>\n",
              "      <td>2.0</td>\n",
              "      <td>64.000000</td>\n",
              "      <td>0.00</td>\n",
              "      <td>0.10</td>\n",
              "      <td>0.0</td>\n",
              "      <td>0.0</td>\n",
              "      <td>Feb</td>\n",
              "      <td>2</td>\n",
              "      <td>2</td>\n",
              "      <td>1</td>\n",
              "      <td>2</td>\n",
              "      <td>Returning_Visitor</td>\n",
              "      <td>False</td>\n",
              "      <td>False</td>\n",
              "    </tr>\n",
              "    <tr>\n",
              "      <th>2</th>\n",
              "      <td>0.0</td>\n",
              "      <td>-1.0</td>\n",
              "      <td>0.0</td>\n",
              "      <td>-1.0</td>\n",
              "      <td>1.0</td>\n",
              "      <td>-1.000000</td>\n",
              "      <td>0.20</td>\n",
              "      <td>0.20</td>\n",
              "      <td>0.0</td>\n",
              "      <td>0.0</td>\n",
              "      <td>Feb</td>\n",
              "      <td>4</td>\n",
              "      <td>1</td>\n",
              "      <td>9</td>\n",
              "      <td>3</td>\n",
              "      <td>Returning_Visitor</td>\n",
              "      <td>False</td>\n",
              "      <td>False</td>\n",
              "    </tr>\n",
              "    <tr>\n",
              "      <th>3</th>\n",
              "      <td>0.0</td>\n",
              "      <td>0.0</td>\n",
              "      <td>0.0</td>\n",
              "      <td>0.0</td>\n",
              "      <td>2.0</td>\n",
              "      <td>2.666667</td>\n",
              "      <td>0.05</td>\n",
              "      <td>0.14</td>\n",
              "      <td>0.0</td>\n",
              "      <td>0.0</td>\n",
              "      <td>Feb</td>\n",
              "      <td>3</td>\n",
              "      <td>2</td>\n",
              "      <td>2</td>\n",
              "      <td>4</td>\n",
              "      <td>Returning_Visitor</td>\n",
              "      <td>False</td>\n",
              "      <td>False</td>\n",
              "    </tr>\n",
              "    <tr>\n",
              "      <th>4</th>\n",
              "      <td>0.0</td>\n",
              "      <td>0.0</td>\n",
              "      <td>0.0</td>\n",
              "      <td>0.0</td>\n",
              "      <td>10.0</td>\n",
              "      <td>627.500000</td>\n",
              "      <td>0.02</td>\n",
              "      <td>0.05</td>\n",
              "      <td>0.0</td>\n",
              "      <td>0.0</td>\n",
              "      <td>Feb</td>\n",
              "      <td>3</td>\n",
              "      <td>3</td>\n",
              "      <td>1</td>\n",
              "      <td>4</td>\n",
              "      <td>Returning_Visitor</td>\n",
              "      <td>True</td>\n",
              "      <td>False</td>\n",
              "    </tr>\n",
              "  </tbody>\n",
              "</table>\n",
              "</div>"
            ],
            "text/plain": [
              "   Administrative  Administrative_Duration  ...  Weekend  Revenue\n",
              "0             0.0                      0.0  ...    False    False\n",
              "1             0.0                      0.0  ...    False    False\n",
              "2             0.0                     -1.0  ...    False    False\n",
              "3             0.0                      0.0  ...    False    False\n",
              "4             0.0                      0.0  ...     True    False\n",
              "\n",
              "[5 rows x 18 columns]"
            ]
          },
          "metadata": {
            "tags": []
          },
          "execution_count": 62
        }
      ]
    },
    {
      "cell_type": "code",
      "metadata": {
        "id": "3pKxhmvBguY_"
      },
      "source": [
        "# Cria o encoder\n",
        "lb = LabelEncoder()\n",
        "\n",
        "# Aplica o encoder nas variáveis que estão com string\n",
        "df_original['Month'] = lb.fit_transform(df_original['Month'])\n",
        "df_original['VisitorType'] = lb.fit_transform(df_original['VisitorType'])\n",
        "\n",
        "# Remove valores missing eventualmente gerados\n",
        "df_original.dropna(inplace = True)"
      ],
      "execution_count": null,
      "outputs": []
    },
    {
      "cell_type": "code",
      "metadata": {
        "id": "7BIDAyqGguZC",
        "outputId": "1c9a9d75-ffd9-4ada-cc1a-58a12e1c2c50",
        "colab": {
          "base_uri": "https://localhost:8080/",
          "height": 428
        }
      },
      "source": [
        "df_original.head(100)"
      ],
      "execution_count": null,
      "outputs": [
        {
          "output_type": "execute_result",
          "data": {
            "text/html": [
              "<div>\n",
              "<style scoped>\n",
              "    .dataframe tbody tr th:only-of-type {\n",
              "        vertical-align: middle;\n",
              "    }\n",
              "\n",
              "    .dataframe tbody tr th {\n",
              "        vertical-align: top;\n",
              "    }\n",
              "\n",
              "    .dataframe thead th {\n",
              "        text-align: right;\n",
              "    }\n",
              "</style>\n",
              "<table border=\"1\" class=\"dataframe\">\n",
              "  <thead>\n",
              "    <tr style=\"text-align: right;\">\n",
              "      <th></th>\n",
              "      <th>Administrative</th>\n",
              "      <th>Administrative_Duration</th>\n",
              "      <th>Informational</th>\n",
              "      <th>Informational_Duration</th>\n",
              "      <th>ProductRelated</th>\n",
              "      <th>ProductRelated_Duration</th>\n",
              "      <th>BounceRates</th>\n",
              "      <th>ExitRates</th>\n",
              "      <th>PageValues</th>\n",
              "      <th>SpecialDay</th>\n",
              "      <th>Month</th>\n",
              "      <th>OperatingSystems</th>\n",
              "      <th>Browser</th>\n",
              "      <th>Region</th>\n",
              "      <th>TrafficType</th>\n",
              "      <th>VisitorType</th>\n",
              "      <th>Weekend</th>\n",
              "      <th>Revenue</th>\n",
              "    </tr>\n",
              "  </thead>\n",
              "  <tbody>\n",
              "    <tr>\n",
              "      <th>0</th>\n",
              "      <td>0.0</td>\n",
              "      <td>0.0</td>\n",
              "      <td>0.0</td>\n",
              "      <td>0.0</td>\n",
              "      <td>1.0</td>\n",
              "      <td>0.000000</td>\n",
              "      <td>0.200000</td>\n",
              "      <td>0.200000</td>\n",
              "      <td>0.0</td>\n",
              "      <td>0.0</td>\n",
              "      <td>2</td>\n",
              "      <td>1</td>\n",
              "      <td>1</td>\n",
              "      <td>1</td>\n",
              "      <td>1</td>\n",
              "      <td>2</td>\n",
              "      <td>False</td>\n",
              "      <td>False</td>\n",
              "    </tr>\n",
              "    <tr>\n",
              "      <th>1</th>\n",
              "      <td>0.0</td>\n",
              "      <td>0.0</td>\n",
              "      <td>0.0</td>\n",
              "      <td>0.0</td>\n",
              "      <td>2.0</td>\n",
              "      <td>64.000000</td>\n",
              "      <td>0.000000</td>\n",
              "      <td>0.100000</td>\n",
              "      <td>0.0</td>\n",
              "      <td>0.0</td>\n",
              "      <td>2</td>\n",
              "      <td>2</td>\n",
              "      <td>2</td>\n",
              "      <td>1</td>\n",
              "      <td>2</td>\n",
              "      <td>2</td>\n",
              "      <td>False</td>\n",
              "      <td>False</td>\n",
              "    </tr>\n",
              "    <tr>\n",
              "      <th>2</th>\n",
              "      <td>0.0</td>\n",
              "      <td>-1.0</td>\n",
              "      <td>0.0</td>\n",
              "      <td>-1.0</td>\n",
              "      <td>1.0</td>\n",
              "      <td>-1.000000</td>\n",
              "      <td>0.200000</td>\n",
              "      <td>0.200000</td>\n",
              "      <td>0.0</td>\n",
              "      <td>0.0</td>\n",
              "      <td>2</td>\n",
              "      <td>4</td>\n",
              "      <td>1</td>\n",
              "      <td>9</td>\n",
              "      <td>3</td>\n",
              "      <td>2</td>\n",
              "      <td>False</td>\n",
              "      <td>False</td>\n",
              "    </tr>\n",
              "    <tr>\n",
              "      <th>3</th>\n",
              "      <td>0.0</td>\n",
              "      <td>0.0</td>\n",
              "      <td>0.0</td>\n",
              "      <td>0.0</td>\n",
              "      <td>2.0</td>\n",
              "      <td>2.666667</td>\n",
              "      <td>0.050000</td>\n",
              "      <td>0.140000</td>\n",
              "      <td>0.0</td>\n",
              "      <td>0.0</td>\n",
              "      <td>2</td>\n",
              "      <td>3</td>\n",
              "      <td>2</td>\n",
              "      <td>2</td>\n",
              "      <td>4</td>\n",
              "      <td>2</td>\n",
              "      <td>False</td>\n",
              "      <td>False</td>\n",
              "    </tr>\n",
              "    <tr>\n",
              "      <th>4</th>\n",
              "      <td>0.0</td>\n",
              "      <td>0.0</td>\n",
              "      <td>0.0</td>\n",
              "      <td>0.0</td>\n",
              "      <td>10.0</td>\n",
              "      <td>627.500000</td>\n",
              "      <td>0.020000</td>\n",
              "      <td>0.050000</td>\n",
              "      <td>0.0</td>\n",
              "      <td>0.0</td>\n",
              "      <td>2</td>\n",
              "      <td>3</td>\n",
              "      <td>3</td>\n",
              "      <td>1</td>\n",
              "      <td>4</td>\n",
              "      <td>2</td>\n",
              "      <td>True</td>\n",
              "      <td>False</td>\n",
              "    </tr>\n",
              "    <tr>\n",
              "      <th>...</th>\n",
              "      <td>...</td>\n",
              "      <td>...</td>\n",
              "      <td>...</td>\n",
              "      <td>...</td>\n",
              "      <td>...</td>\n",
              "      <td>...</td>\n",
              "      <td>...</td>\n",
              "      <td>...</td>\n",
              "      <td>...</td>\n",
              "      <td>...</td>\n",
              "      <td>...</td>\n",
              "      <td>...</td>\n",
              "      <td>...</td>\n",
              "      <td>...</td>\n",
              "      <td>...</td>\n",
              "      <td>...</td>\n",
              "      <td>...</td>\n",
              "      <td>...</td>\n",
              "    </tr>\n",
              "    <tr>\n",
              "      <th>95</th>\n",
              "      <td>0.0</td>\n",
              "      <td>0.0</td>\n",
              "      <td>0.0</td>\n",
              "      <td>0.0</td>\n",
              "      <td>2.0</td>\n",
              "      <td>33.000000</td>\n",
              "      <td>0.000000</td>\n",
              "      <td>0.100000</td>\n",
              "      <td>0.0</td>\n",
              "      <td>0.2</td>\n",
              "      <td>2</td>\n",
              "      <td>1</td>\n",
              "      <td>1</td>\n",
              "      <td>1</td>\n",
              "      <td>3</td>\n",
              "      <td>2</td>\n",
              "      <td>False</td>\n",
              "      <td>False</td>\n",
              "    </tr>\n",
              "    <tr>\n",
              "      <th>96</th>\n",
              "      <td>0.0</td>\n",
              "      <td>0.0</td>\n",
              "      <td>0.0</td>\n",
              "      <td>0.0</td>\n",
              "      <td>6.0</td>\n",
              "      <td>1566.500000</td>\n",
              "      <td>0.050000</td>\n",
              "      <td>0.066667</td>\n",
              "      <td>0.0</td>\n",
              "      <td>0.2</td>\n",
              "      <td>2</td>\n",
              "      <td>1</td>\n",
              "      <td>1</td>\n",
              "      <td>1</td>\n",
              "      <td>3</td>\n",
              "      <td>2</td>\n",
              "      <td>False</td>\n",
              "      <td>False</td>\n",
              "    </tr>\n",
              "    <tr>\n",
              "      <th>97</th>\n",
              "      <td>0.0</td>\n",
              "      <td>0.0</td>\n",
              "      <td>0.0</td>\n",
              "      <td>0.0</td>\n",
              "      <td>4.0</td>\n",
              "      <td>105.000000</td>\n",
              "      <td>0.000000</td>\n",
              "      <td>0.025000</td>\n",
              "      <td>0.0</td>\n",
              "      <td>0.6</td>\n",
              "      <td>2</td>\n",
              "      <td>1</td>\n",
              "      <td>1</td>\n",
              "      <td>1</td>\n",
              "      <td>4</td>\n",
              "      <td>2</td>\n",
              "      <td>False</td>\n",
              "      <td>False</td>\n",
              "    </tr>\n",
              "    <tr>\n",
              "      <th>98</th>\n",
              "      <td>0.0</td>\n",
              "      <td>0.0</td>\n",
              "      <td>1.0</td>\n",
              "      <td>0.0</td>\n",
              "      <td>7.0</td>\n",
              "      <td>50.000000</td>\n",
              "      <td>0.038095</td>\n",
              "      <td>0.080952</td>\n",
              "      <td>0.0</td>\n",
              "      <td>0.6</td>\n",
              "      <td>2</td>\n",
              "      <td>2</td>\n",
              "      <td>4</td>\n",
              "      <td>1</td>\n",
              "      <td>7</td>\n",
              "      <td>2</td>\n",
              "      <td>False</td>\n",
              "      <td>False</td>\n",
              "    </tr>\n",
              "    <tr>\n",
              "      <th>99</th>\n",
              "      <td>0.0</td>\n",
              "      <td>0.0</td>\n",
              "      <td>0.0</td>\n",
              "      <td>0.0</td>\n",
              "      <td>16.0</td>\n",
              "      <td>644.200000</td>\n",
              "      <td>0.004167</td>\n",
              "      <td>0.031667</td>\n",
              "      <td>0.0</td>\n",
              "      <td>0.0</td>\n",
              "      <td>2</td>\n",
              "      <td>3</td>\n",
              "      <td>2</td>\n",
              "      <td>3</td>\n",
              "      <td>4</td>\n",
              "      <td>2</td>\n",
              "      <td>False</td>\n",
              "      <td>False</td>\n",
              "    </tr>\n",
              "  </tbody>\n",
              "</table>\n",
              "<p>100 rows × 18 columns</p>\n",
              "</div>"
            ],
            "text/plain": [
              "    Administrative  Administrative_Duration  ...  Weekend  Revenue\n",
              "0              0.0                      0.0  ...    False    False\n",
              "1              0.0                      0.0  ...    False    False\n",
              "2              0.0                     -1.0  ...    False    False\n",
              "3              0.0                      0.0  ...    False    False\n",
              "4              0.0                      0.0  ...     True    False\n",
              "..             ...                      ...  ...      ...      ...\n",
              "95             0.0                      0.0  ...    False    False\n",
              "96             0.0                      0.0  ...    False    False\n",
              "97             0.0                      0.0  ...    False    False\n",
              "98             0.0                      0.0  ...    False    False\n",
              "99             0.0                      0.0  ...    False    False\n",
              "\n",
              "[100 rows x 18 columns]"
            ]
          },
          "metadata": {
            "tags": []
          },
          "execution_count": 65
        }
      ]
    },
    {
      "cell_type": "code",
      "metadata": {
        "id": "yhaABctEguZE",
        "outputId": "76f5d91e-9913-42a0-b8da-52ff872197fe",
        "colab": {
          "base_uri": "https://localhost:8080/"
        }
      },
      "source": [
        "# Shape\n",
        "df_original.shape"
      ],
      "execution_count": null,
      "outputs": [
        {
          "output_type": "execute_result",
          "data": {
            "text/plain": [
              "(12316, 18)"
            ]
          },
          "metadata": {
            "tags": []
          },
          "execution_count": 66
        }
      ]
    },
    {
      "cell_type": "code",
      "metadata": {
        "id": "jDAtWIm1guZI",
        "outputId": "17319f79-06f5-4310-8808-15d199526bba",
        "colab": {
          "base_uri": "https://localhost:8080/"
        }
      },
      "source": [
        "# Verificando se a variável resposta está balanceada\n",
        "target_count = df_original.Revenue.value_counts()\n",
        "target_count"
      ],
      "execution_count": null,
      "outputs": [
        {
          "output_type": "execute_result",
          "data": {
            "text/plain": [
              "False    10408\n",
              "True      1908\n",
              "Name: Revenue, dtype: int64"
            ]
          },
          "metadata": {
            "tags": []
          },
          "execution_count": 67
        }
      ]
    },
    {
      "cell_type": "code",
      "metadata": {
        "id": "_Cu4YgXvguZK",
        "outputId": "ef5422fc-66ac-42eb-a76a-94bf79836629",
        "colab": {
          "base_uri": "https://localhost:8080/",
          "height": 310
        }
      },
      "source": [
        "# Plot\n",
        "sns.countplot(df_original.Revenue, palette = \"OrRd\")\n",
        "plt.box(False)\n",
        "plt.xlabel('Receita (Revenue) Por Sessão Não (0) / Sim (1)', fontsize = 11)\n",
        "plt.ylabel('Total Sessões', fontsize = 11)\n",
        "plt.title('Contagem de Classes\\n')\n",
        "plt.show()"
      ],
      "execution_count": null,
      "outputs": [
        {
          "output_type": "display_data",
          "data": {
            "image/png": "[encoded data removed]",
            "text/plain": [
              "<Figure size 432x288 with 1 Axes>"
            ]
          },
          "metadata": {
            "tags": [],
            "needs_background": "light"
          }
        }
      ]
    },
    {
      "cell_type": "code",
      "metadata": {
        "id": "q62kEAuHguZP"
      },
      "source": [
        "# Instala e importa o pacote imblearn - Aplicar o balanceamento da variável resposta\n",
        "!pip install -q imblearn\n",
        "import imblearn"
      ],
      "execution_count": null,
      "outputs": []
    },
    {
      "cell_type": "code",
      "metadata": {
        "id": "oAFq7mwSguZU",
        "outputId": "d81a043d-0ceb-48ad-bf6f-de6fd1c1a567",
        "colab": {
          "base_uri": "https://localhost:8080/"
        }
      },
      "source": [
        "# Versões dos pacotes usados neste jupyter notebook\n",
        "%reload_ext watermark\n",
        "%watermark -a \"Ciência dos Dados\" --iversions"
      ],
      "execution_count": null,
      "outputs": [
        {
          "output_type": "stream",
          "text": [
            "imblearn   0.4.3\n",
            "numpy      1.18.5\n",
            "pandas     1.1.4\n",
            "matplotlib 3.2.2\n",
            "sklearn    0.22.2.post1\n",
            "seaborn    0.11.0\n",
            "Ciência dos Dados\n"
          ],
          "name": "stdout"
        }
      ]
    },
    {
      "cell_type": "code",
      "metadata": {
        "id": "1WxQdVnPguZY",
        "outputId": "3dcc7624-7610-4dd2-acc4-3d2c495bb6e3",
        "colab": {
          "base_uri": "https://localhost:8080/"
        }
      },
      "source": [
        "# Shape\n",
        "df_original.shape"
      ],
      "execution_count": null,
      "outputs": [
        {
          "output_type": "execute_result",
          "data": {
            "text/plain": [
              "(12316, 18)"
            ]
          },
          "metadata": {
            "tags": []
          },
          "execution_count": 71
        }
      ]
    },
    {
      "cell_type": "code",
      "metadata": {
        "id": "Ke63dbRFguZc"
      },
      "source": [
        "# Variáveis explicativas\n",
        "df_original.iloc[:, 0:17].head()"
      ],
      "execution_count": null,
      "outputs": []
    },
    {
      "cell_type": "code",
      "metadata": {
        "id": "FEbQSmM8guZe"
      },
      "source": [
        "# Variável Target\n",
        "df_original.iloc[:, 17].head()"
      ],
      "execution_count": null,
      "outputs": []
    },
    {
      "cell_type": "markdown",
      "metadata": {
        "id": "gmYyEW0rguZk"
      },
      "source": [
        "**Balanceamento de Classe - Oversampling**"
      ]
    },
    {
      "cell_type": "code",
      "metadata": {
        "id": "M2GKcE-GguZl"
      },
      "source": [
        "# Importa a função\n",
        "from imblearn.over_sampling import SMOTE\n",
        "\n",
        "# Seed para reproduzir o mesmo resultado\n",
        "seed = 7\n",
        "\n",
        "# Separa X e y\n",
        "X = df_original.iloc[:, 0:17]\n",
        "y = df_original.iloc[:, 17]\n",
        "\n",
        "# Cria o balanceador SMOTE\n",
        "smote_bal = SMOTE(random_state = seed)\n",
        "\n",
        "# Aplica o balanceador\n",
        "X_res, y_res = smote_bal.fit_resample(X, y)"
      ],
      "execution_count": null,
      "outputs": []
    },
    {
      "cell_type": "code",
      "metadata": {
        "id": "WC8wg9HmguZo",
        "outputId": "2c6c09f6-9ee1-4c23-e5c0-530620672363",
        "colab": {
          "base_uri": "https://localhost:8080/",
          "height": 310
        }
      },
      "source": [
        "# Plot\n",
        "sns.countplot(y_res, palette = \"OrRd\")\n",
        "plt.box(False)\n",
        "plt.xlabel('Receita (Revenue) Por Sessão Não (0) / Sim (1)', fontsize = 11)\n",
        "plt.ylabel('Total Sessões', fontsize = 11)\n",
        "plt.title('Contagem de Classes\\n')\n",
        "plt.show()"
      ],
      "execution_count": null,
      "outputs": [
        {
          "output_type": "display_data",
          "data": {
            "image/png": "[encoded data removed]",
            "text/plain": [
              "<Figure size 432x288 with 1 Axes>"
            ]
          },
          "metadata": {
            "tags": [],
            "needs_background": "light"
          }
        }
      ]
    },
    {
      "cell_type": "code",
      "metadata": {
        "id": "bJO4YYjQguZr"
      },
      "source": [
        "# Shape dos dados originais\n",
        "df_original.shape"
      ],
      "execution_count": null,
      "outputs": []
    },
    {
      "cell_type": "code",
      "metadata": {
        "id": "s216ltluguZv"
      },
      "source": [
        "# Shape dos dados reamostrados\n",
        "X_res.shape"
      ],
      "execution_count": null,
      "outputs": []
    },
    {
      "cell_type": "code",
      "metadata": {
        "id": "rI0cnbwKguZz"
      },
      "source": [
        "# Shape dos dados reamostrados\n",
        "y_res.shape"
      ],
      "execution_count": null,
      "outputs": []
    },
    {
      "cell_type": "code",
      "metadata": {
        "id": "dYgH-iWbguZ2"
      },
      "source": [
        "# Ajustando X e y\n",
        "X = X_res\n",
        "y = y_res"
      ],
      "execution_count": null,
      "outputs": []
    },
    {
      "cell_type": "code",
      "metadata": {
        "id": "EO9K7ZViguZ4"
      },
      "source": [
        "# Divisão em Dados de Treino e Teste.\n",
        "X_treino, X_teste, y_treino, y_teste = train_test_split(X, y, test_size = 0.3, random_state = 7)"
      ],
      "execution_count": null,
      "outputs": []
    },
    {
      "cell_type": "markdown",
      "metadata": {
        "id": "8-Vspe-DQhrq"
      },
      "source": [
        "#4° Construção da Máquina Preditiva"
      ]
    },
    {
      "cell_type": "markdown",
      "metadata": {
        "id": "2mdvE6dyguaZ"
      },
      "source": [
        "### Modelo Baseline com Kernel Linear e Dados Padronizados (Scaled)"
      ]
    },
    {
      "cell_type": "code",
      "metadata": {
        "id": "eZMRYBaeguad"
      },
      "source": [
        "# Padronização\n",
        "sc = StandardScaler()\n",
        "X_treino_scaled = sc.fit_transform(X_treino)\n",
        "X_teste_scaled = sc.transform(X_teste)"
      ],
      "execution_count": null,
      "outputs": []
    },
    {
      "cell_type": "markdown",
      "metadata": {
        "id": "uDAPySB9guaj"
      },
      "source": [
        "***Observação:***\n",
        "\n",
        "Para impedir que as informações sobre a distribuição do conjunto de teste vazem em seu modelo, o ideal é aplicar a padronização em separado nos dados de treino e de teste, ajustando o redimensionador apenas aos dados de treinamento, padronizando então os conjuntos de treinamento e teste com esse redimensionador (exatamente como está na célula acima). Ao ajustar o redimensionador no conjunto de dados completo antes da divisão em treino e teste, informações sobre o conjunto de testes são usadas para transformar o conjunto de treinamento.\n",
        "\n",
        "Conhecer a distribuição de todo o conjunto de dados pode influenciar como você detecta e processa outliers, bem como como você parametriza seu modelo. Embora os dados em si não sejam expostos, há informações sobre a distribuição dos dados. Como resultado, o desempenho do seu conjunto de testes não é uma estimativa real do desempenho em dados invisíveis.\n",
        "\n",
        "**Sempre aplique a padronização depois de fazer a divisão em treino e teste**, exatamente como fizemos aqui. Usamos fit_transform() nos dados de treino e transform() nos dados de teste quando usamos o StandardScaler()."
      ]
    },
    {
      "cell_type": "code",
      "metadata": {
        "id": "O4fNmyCMguak"
      },
      "source": [
        "X_treino_scaled"
      ],
      "execution_count": null,
      "outputs": []
    },
    {
      "cell_type": "code",
      "metadata": {
        "id": "rXziOuoZguao"
      },
      "source": [
        "X_teste_scaled"
      ],
      "execution_count": null,
      "outputs": []
    },
    {
      "cell_type": "code",
      "metadata": {
        "id": "2sIncINaguat"
      },
      "source": [
        "# Cria o modelo\n",
        "modelo_v1 = svm.SVC(kernel = 'linear')"
      ],
      "execution_count": null,
      "outputs": []
    },
    {
      "cell_type": "code",
      "metadata": {
        "id": "nKzskr-rguaw",
        "outputId": "5278ed78-a85c-4252-93de-a4f97b8ad776",
        "colab": {
          "base_uri": "https://localhost:8080/"
        }
      },
      "source": [
        "# Treinamento\n",
        "start = time.time()\n",
        "modelo_v1.fit(X_treino_scaled, y_treino)\n",
        "end = time.time()\n",
        "print('Tempo de Treinamento do Modelo foi de :', end - start)"
      ],
      "execution_count": null,
      "outputs": [
        {
          "output_type": "stream",
          "text": [
            "Tempo de Treinamento do Modelo: 11.101357221603394\n"
          ],
          "name": "stdout"
        }
      ]
    },
    {
      "cell_type": "code",
      "metadata": {
        "id": "XpVDHx0Vguay"
      },
      "source": [
        "# Previsões\n",
        "previsoes_v1 = modelo_v1.predict(X_teste_scaled)"
      ],
      "execution_count": null,
      "outputs": []
    },
    {
      "cell_type": "markdown",
      "metadata": {
        "id": "X2LRojybSYuY"
      },
      "source": [
        "#5° Avaliação da Máquina Preditiva"
      ]
    },
    {
      "cell_type": "code",
      "metadata": {
        "id": "j0kwGfbogua0"
      },
      "source": [
        "# Dicionário de métricas e metadados\n",
        "SVM_dict_v1 = {'Modelo':'SVM',\n",
        "               'Versão':'1',\n",
        "               'Kernel':'Linear com Dados Padronizados',\n",
        "               'Precision':precision_score(previsoes_v1, y_teste),\n",
        "               'Recall':recall_score(previsoes_v1, y_teste),\n",
        "               'F1 Score':f1_score(previsoes_v1, y_teste),\n",
        "               'Acurácia':accuracy_score(previsoes_v1, y_teste),\n",
        "               'AUC':roc_auc_score(y_teste, previsoes_v1)}"
      ],
      "execution_count": null,
      "outputs": []
    },
    {
      "cell_type": "code",
      "metadata": {
        "id": "dZv2iNFvgua1",
        "outputId": "6a75d3c3-8296-493a-a8d6-3b3b375595ca",
        "colab": {
          "base_uri": "https://localhost:8080/"
        }
      },
      "source": [
        "# Print\n",
        "print(\"Métricas em Teste:\\n\")\n",
        "SVM_dict_v1"
      ],
      "execution_count": null,
      "outputs": [
        {
          "output_type": "stream",
          "text": [
            "Métricas em Teste:\n",
            "\n"
          ],
          "name": "stdout"
        },
        {
          "output_type": "execute_result",
          "data": {
            "text/plain": [
              "{'AUC': 0.8326035080876919,\n",
              " 'Acurácia': 0.8307445956765412,\n",
              " 'F1 Score': 0.822143698468787,\n",
              " 'Kernel': 'Linear com Dados Padronizados',\n",
              " 'Modelo': 'SVM',\n",
              " 'Precision': 0.7622464898595944,\n",
              " 'Recall': 0.8922571219868517,\n",
              " 'Versão': '1'}"
            ]
          },
          "metadata": {
            "tags": []
          },
          "execution_count": 89
        }
      ]
    },
    {
      "cell_type": "markdown",
      "metadata": {
        "id": "CNKx7TLugua3"
      },
      "source": [
        "### Otimização de Hiperparâmetros com Grid Search e Kernel RBF"
      ]
    },
    {
      "cell_type": "markdown",
      "metadata": {
        "id": "LTF1PxnRYtYs"
      },
      "source": [
        "#### Como escolher a faixa de valores dos Hyperparâmetros?\n",
        "\n",
        "É necessário entender como os valores alteram o resultado. Para isso, a documentação dos algoritmos tem as informações necessárias para você escolher os valores iniciais e depois partir para novos testes e novos valores a serem considerados.\n",
        "\n",
        "https://scikit-learn.org/stable/auto_examples/svm/plot_rbf_parameters.html"
      ]
    },
    {
      "cell_type": "code",
      "metadata": {
        "id": "TBxI4ROggua4"
      },
      "source": [
        "# Cria o modelo\n",
        "modelo_v2 = svm.SVC(kernel = 'rbf')\n",
        "\n"
      ],
      "execution_count": null,
      "outputs": []
    },
    {
      "cell_type": "code",
      "metadata": {
        "id": "CMHj7veE3CWr"
      },
      "source": [
        "# Valores para o grid\n",
        "C_range = np.array([50., 100., 200.])\n",
        "gamma_range = np.array([0.3*0.001,0.001,3*0.001])\n",
        "\n"
      ],
      "execution_count": null,
      "outputs": []
    },
    {
      "cell_type": "code",
      "metadata": {
        "id": "H5Pyo3YY3Eih"
      },
      "source": [
        "# Grid de hiperparâmetros\n",
        "svm_param_grid = dict(gamma = gamma_range, C = C_range)\n",
        "\n"
      ],
      "execution_count": null,
      "outputs": []
    },
    {
      "cell_type": "code",
      "metadata": {
        "id": "nKwZmJSe3hb3"
      },
      "source": [
        "# Grid Search\n",
        "start = time.time()\n",
        "modelo_v2_grid_search_rbf = GridSearchCV(modelo_v2, svm_param_grid, cv = 3)\n",
        "\n"
      ],
      "execution_count": null,
      "outputs": []
    },
    {
      "cell_type": "code",
      "metadata": {
        "id": "iXQiKZXM3i0Y",
        "outputId": "57f764c3-aa36-4e37-a2f0-6825653333ce",
        "colab": {
          "base_uri": "https://localhost:8080/"
        }
      },
      "source": [
        "# Treinamento\n",
        "modelo_v2_grid_search_rbf.fit(X_treino_scaled, y_treino)\n",
        "end = time.time()\n",
        "print('Tempo de Treinamento do Modelo com Grid Search:', end - start)\n",
        "\n"
      ],
      "execution_count": null,
      "outputs": [
        {
          "output_type": "stream",
          "text": [
            "Tempo de Treinamento do Modelo com Grid Search: 172.00184321403503\n"
          ],
          "name": "stdout"
        }
      ]
    },
    {
      "cell_type": "code",
      "metadata": {
        "id": "oIEpCIIT3zXJ"
      },
      "source": [
        "# Acurácia em Treino\n",
        "print(f\"Acurácia em Treinamento: {modelo_v2_grid_search_rbf.best_score_ :.2%}\")\n",
        "print(\"\")\n",
        "print(f\"Hiperparâmetros Ideais: {modelo_v2_grid_search_rbf.best_params_}\")"
      ],
      "execution_count": null,
      "outputs": []
    },
    {
      "cell_type": "code",
      "metadata": {
        "id": "A925kFHYgua6"
      },
      "source": [
        "# Previsões\n",
        "previsoes_v2 = modelo_v2_grid_search_rbf.predict(X_teste_scaled)"
      ],
      "execution_count": null,
      "outputs": []
    },
    {
      "cell_type": "code",
      "metadata": {
        "id": "gqrH_OHHgua8"
      },
      "source": [
        "# Dicionário de métricas e metadados\n",
        "SVM_dict_v2 = {'Modelo':'SVM',\n",
        "               'Versão':'2',\n",
        "               'Kernel':'RBF com Tunning de Hyperparâmetros',\n",
        "               'Precision':precision_score(previsoes_v2, y_teste),\n",
        "               'Recall':recall_score(previsoes_v2, y_teste),\n",
        "               'F1 Score':f1_score(previsoes_v2, y_teste),\n",
        "               'Acurácia':accuracy_score(previsoes_v2, y_teste),\n",
        "               'AUC':roc_auc_score(y_teste, previsoes_v2)}"
      ],
      "execution_count": null,
      "outputs": []
    },
    {
      "cell_type": "code",
      "metadata": {
        "id": "ulwskou3gua9",
        "outputId": "7839ddc3-8823-4978-be95-3128773ef56c",
        "colab": {
          "base_uri": "https://localhost:8080/"
        }
      },
      "source": [
        "# Print\n",
        "print(\"Métricas em Teste:\\n\")\n",
        "SVM_dict_v2"
      ],
      "execution_count": null,
      "outputs": [
        {
          "output_type": "stream",
          "text": [
            "Métricas em Teste:\n",
            "\n"
          ],
          "name": "stdout"
        },
        {
          "output_type": "execute_result",
          "data": {
            "text/plain": [
              "{'AUC': 0.8820623614418261,\n",
              " 'Acurácia': 0.8813450760608487,\n",
              " 'F1 Score': 0.8808873171515833,\n",
              " 'Kernel': 'RBF com Tunning de Hyperparâmetros',\n",
              " 'Modelo': 'SVM',\n",
              " 'Precision': 0.8549141965678627,\n",
              " 'Recall': 0.9084880636604774,\n",
              " 'Versão': '2'}"
            ]
          },
          "metadata": {
            "tags": []
          },
          "execution_count": 97
        }
      ]
    },
    {
      "cell_type": "code",
      "metadata": {
        "id": "U0GItqAMgubN"
      },
      "source": [
        "# Concatena todos os dicionários em um dataframe do Pandas\n",
        "resumo = pd.DataFrame({'Baseline':pd.Series(SVM_dict_v1),\n",
        "                       'Máquina_Preditiva':pd.Series(SVM_dict_v2)})"
      ],
      "execution_count": null,
      "outputs": []
    },
    {
      "cell_type": "code",
      "metadata": {
        "id": "wXErP7xagubP",
        "outputId": "2dc87d2c-468e-4f60-f1ee-c8e019fa2658",
        "colab": {
          "base_uri": "https://localhost:8080/",
          "height": 288
        }
      },
      "source": [
        "# Print\n",
        "resumo"
      ],
      "execution_count": null,
      "outputs": [
        {
          "output_type": "execute_result",
          "data": {
            "text/html": [
              "<div>\n",
              "<style scoped>\n",
              "    .dataframe tbody tr th:only-of-type {\n",
              "        vertical-align: middle;\n",
              "    }\n",
              "\n",
              "    .dataframe tbody tr th {\n",
              "        vertical-align: top;\n",
              "    }\n",
              "\n",
              "    .dataframe thead th {\n",
              "        text-align: right;\n",
              "    }\n",
              "</style>\n",
              "<table border=\"1\" class=\"dataframe\">\n",
              "  <thead>\n",
              "    <tr style=\"text-align: right;\">\n",
              "      <th></th>\n",
              "      <th>Baseline</th>\n",
              "      <th>Máquina_Preditiva</th>\n",
              "    </tr>\n",
              "  </thead>\n",
              "  <tbody>\n",
              "    <tr>\n",
              "      <th>Modelo</th>\n",
              "      <td>SVM</td>\n",
              "      <td>SVM</td>\n",
              "    </tr>\n",
              "    <tr>\n",
              "      <th>Versão</th>\n",
              "      <td>1</td>\n",
              "      <td>2</td>\n",
              "    </tr>\n",
              "    <tr>\n",
              "      <th>Kernel</th>\n",
              "      <td>Linear com Dados Padronizados</td>\n",
              "      <td>RBF com Tunning de Hyperparâmetros</td>\n",
              "    </tr>\n",
              "    <tr>\n",
              "      <th>Precision</th>\n",
              "      <td>0.762246</td>\n",
              "      <td>0.854914</td>\n",
              "    </tr>\n",
              "    <tr>\n",
              "      <th>Recall</th>\n",
              "      <td>0.892257</td>\n",
              "      <td>0.908488</td>\n",
              "    </tr>\n",
              "    <tr>\n",
              "      <th>F1 Score</th>\n",
              "      <td>0.822144</td>\n",
              "      <td>0.880887</td>\n",
              "    </tr>\n",
              "    <tr>\n",
              "      <th>Acurácia</th>\n",
              "      <td>0.830745</td>\n",
              "      <td>0.881345</td>\n",
              "    </tr>\n",
              "    <tr>\n",
              "      <th>AUC</th>\n",
              "      <td>0.832604</td>\n",
              "      <td>0.882062</td>\n",
              "    </tr>\n",
              "  </tbody>\n",
              "</table>\n",
              "</div>"
            ],
            "text/plain": [
              "                                Baseline                   Máquina_Preditiva\n",
              "Modelo                               SVM                                 SVM\n",
              "Versão                                 1                                   2\n",
              "Kernel     Linear com Dados Padronizados  RBF com Tunning de Hyperparâmetros\n",
              "Precision                       0.762246                            0.854914\n",
              "Recall                          0.892257                            0.908488\n",
              "F1 Score                        0.822144                            0.880887\n",
              "Acurácia                        0.830745                            0.881345\n",
              "AUC                             0.832604                            0.882062"
            ]
          },
          "metadata": {
            "tags": []
          },
          "execution_count": 99
        }
      ]
    },
    {
      "cell_type": "markdown",
      "metadata": {
        "id": "tvtj8WvJaOIg"
      },
      "source": [
        "![alt text](data:image/png;base64,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)\n",
        "\n",
        "\n"
      ]
    },
    {
      "cell_type": "markdown",
      "metadata": {
        "id": "XTRc7NjBKG65"
      },
      "source": [
        "# Fim"
      ]
    },
    {
      "cell_type": "markdown",
      "metadata": {
        "id": "_fHqFSvWe94c"
      },
      "source": [
        "## Valeu!"
      ]
    },
    {
      "cell_type": "markdown",
      "metadata": {
        "id": "2r1o8LDDzj16"
      },
      "source": [
        "### #Links - Ciencia dos Dados <a href=\"https://linktr.ee/cienciadosdados\">https://linktr.ee/cienciadosdados</a>"
      ]
    }
  ]
}