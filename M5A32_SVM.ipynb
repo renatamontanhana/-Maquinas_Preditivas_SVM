{
  "nbformat": 4,
  "nbformat_minor": 0,
  "metadata": {
    "colab": {
      "provenance": [],
      "collapsed_sections": [
        "H0P73i8GNijT",
        "T5b2M17ROys9",
        "sT_OJ0fWPLi9",
        "6FYLYCPLQT4f",
        "8-Vspe-DQhrq",
        "X2LRojybSYuY"
      ],
      "include_colab_link": true
    },
    "kernelspec": {
      "name": "python3",
      "display_name": "Python 3"
    }
  },
  "cells": [
    {
      "cell_type": "markdown",
      "metadata": {
        "id": "view-in-github",
        "colab_type": "text"
      },
      "source": [
        "<a href=\"https://colab.research.google.com/github/renatamontanhana/-Maquinas_Preditivas_SVM/blob/main/M5A32_SVM.ipynb\" target=\"_parent\"><img src=\"https://colab.research.google.com/assets/colab-badge.svg\" alt=\"Open In Colab\"/></a>"
      ]
    },
    {
      "cell_type": "markdown",
      "metadata": {
        "id": "7sWA2GsxM2l-"
      },
      "source": [
        "![alt text](https://encrypted-tbn0.gstatic.com/images?q=tbn%3AANd9GcTK4gQ9nhwHHaSXMHpeggWg7twwMCgb877smkRmtkmDeDoGF9Z6&usqp=CAU)"
      ]
    },
    {
      "cell_type": "markdown",
      "metadata": {
        "id": "7oiQVQi0AJ6D"
      },
      "source": [
        "# <font color='BLUE'>Cientista de Dados na Prática </font>\n",
        "\n",
        "# <font color='Purple'>Módulo 5 - Máquinas Preditivas</font>\n",
        "\n",
        "### <font color='GREY'> SVM - Support Vector Machines </font>  \n",
        "\n",
        "\n",
        "\n"
      ]
    },
    {
      "cell_type": "markdown",
      "metadata": {
        "id": "H0P73i8GNijT"
      },
      "source": [
        "# 1° Problema de Negócio\n",
        "\n",
        "Usando SVM Para Prever a Intenção de Compra de Usuários de E-*Commerce*.\n",
        "\n",
        "Queremos saber se o cliente **está ou não propenso a comprar** produtos no seu site, para que o departamento de Marketing faça campanhas de vendas direcionadas a esses clientes.\n",
        "\n"
      ]
    },
    {
      "cell_type": "markdown",
      "metadata": {
        "id": "ohTlTY0Dlwoy"
      },
      "source": [
        "![alt text](https://encrypted-tbn0.gstatic.com/images?q=tbn%3AANd9GcQ1bshmktEZsMtTteqrtnLAF2I-EJptURO-cA&usqp=CAU)\n"
      ]
    },
    {
      "cell_type": "markdown",
      "metadata": {
        "id": "55WKRM9WOWnX"
      },
      "source": [
        "#### **Fonte de Dados**\n",
        "Online Shoppers Purchasing Intention Dataset\n",
        "\n",
        "https://archive.ics.uci.edu/ml/datasets/Online+Shoppers+Purchasing+Intention+Dataset\n",
        "\n",
        "O conjunto de dados consiste em uma pancada de variáveis pertencentes a 12.330 sessões online. O conjunto de dados foi formado de modo que cada sessão pertença a um usuário diferente em um período de 1 ano para evitar qualquer tendência para uma campanha específica, dia especial, usuário, perfil ou período.\n",
        "\n",
        "O conjunto de dados consiste em 10 atributos numéricos e 8 categóricos. O atributo 'Revenue' (target) (\"true\" or \"false\") pode ser usado como o rótulo da classe."
      ]
    },
    {
      "cell_type": "markdown",
      "metadata": {
        "id": "T5b2M17ROys9"
      },
      "source": [
        "#2° Análise Exploratória dos Dados"
      ]
    },
    {
      "cell_type": "markdown",
      "metadata": {
        "id": "1QBDTdEEguWy"
      },
      "source": [
        "## Importando os Pacotes"
      ]
    },
    {
      "cell_type": "code",
      "metadata": {
        "id": "qeNUaYlpguW7",
        "colab": {
          "base_uri": "https://localhost:8080/"
        },
        "outputId": "08e39b56-a5fc-441a-e4df-a44a6c5c803f"
      },
      "source": [
        "# Instala o pacote watermark.\n",
        "# Esse pacote é usado para gravar as versões de outros pacotes usados neste jupyter notebook.\n",
        "!pip install -q -U watermark"
      ],
      "execution_count": null,
      "outputs": [
        {
          "output_type": "stream",
          "name": "stdout",
          "text": [
            "\u001b[?25l     \u001b[90m━━━━━━━━━━━━━━━━━━━━━━━━━━━━━━━━━━━━━━━━\u001b[0m \u001b[32m0.0/1.6 MB\u001b[0m \u001b[31m?\u001b[0m eta \u001b[36m-:--:--\u001b[0m\r\u001b[2K     \u001b[91m━\u001b[0m\u001b[90m╺\u001b[0m\u001b[90m━━━━━━━━━━━━━━━━━━━━━━━━━━━━━━━━━━━━━━\u001b[0m \u001b[32m0.0/1.6 MB\u001b[0m \u001b[31m1.2 MB/s\u001b[0m eta \u001b[36m0:00:02\u001b[0m\r\u001b[2K     \u001b[91m━━━━━━━━━━━━━\u001b[0m\u001b[91m╸\u001b[0m\u001b[90m━━━━━━━━━━━━━━━━━━━━━━━━━━\u001b[0m \u001b[32m0.5/1.6 MB\u001b[0m \u001b[31m8.7 MB/s\u001b[0m eta \u001b[36m0:00:01\u001b[0m\r\u001b[2K     \u001b[91m━━━━━━━━━━━━━━━━━━━━━━━━━━━━━━━━━━━━━━━\u001b[0m\u001b[91m╸\u001b[0m \u001b[32m1.6/1.6 MB\u001b[0m \u001b[31m19.3 MB/s\u001b[0m eta \u001b[36m0:00:01\u001b[0m\r\u001b[2K     \u001b[90m━━━━━━━━━━━━━━━━━━━━━━━━━━━━━━━━━━━━━━━━\u001b[0m \u001b[32m1.6/1.6 MB\u001b[0m \u001b[31m14.0 MB/s\u001b[0m eta \u001b[36m0:00:00\u001b[0m\n",
            "\u001b[?25h"
          ]
        }
      ]
    },
    {
      "cell_type": "code",
      "metadata": {
        "id": "9GM--p9YguXD"
      },
      "source": [
        "# Imports\n",
        "import time\n",
        "import numpy as np\n",
        "import pandas as pd\n",
        "import seaborn as sns\n",
        "import matplotlib.pyplot as plt\n",
        "from sklearn.preprocessing import StandardScaler\n",
        "from sklearn.preprocessing import LabelEncoder\n",
        "from sklearn.model_selection import train_test_split\n",
        "from sklearn.model_selection import GridSearchCV\n",
        "from sklearn.metrics import precision_score, recall_score, f1_score, accuracy_score, roc_auc_score\n",
        "from sklearn import svm\n",
        "import sklearn\n",
        "import matplotlib\n",
        "import warnings\n",
        "warnings.filterwarnings('ignore')"
      ],
      "execution_count": null,
      "outputs": []
    },
    {
      "cell_type": "code",
      "metadata": {
        "id": "c5k-kK7kguXK",
        "colab": {
          "base_uri": "https://localhost:8080/"
        },
        "outputId": "c43b4ff7-bf23-466f-a3c6-494d4149ed79"
      },
      "source": [
        "# Versões dos pacotes usados neste jupyter notebook\n",
        "%reload_ext watermark\n",
        "%watermark -a \"Ciêntista de dados na Prática\" --iversions"
      ],
      "execution_count": null,
      "outputs": [
        {
          "output_type": "stream",
          "name": "stdout",
          "text": [
            "Author: Ciêntista de dados na Prática\n",
            "\n",
            "sklearn   : 1.2.2\n",
            "pandas    : 1.5.3\n",
            "seaborn   : 0.12.2\n",
            "matplotlib: 3.7.1\n",
            "numpy     : 1.23.5\n",
            "\n"
          ]
        }
      ]
    },
    {
      "cell_type": "markdown",
      "metadata": {
        "id": "V6Wy5xPOguXR"
      },
      "source": [
        "## Carga dos Dados"
      ]
    },
    {
      "cell_type": "code",
      "metadata": {
        "id": "A_r8D7-uguXT",
        "colab": {
          "base_uri": "https://localhost:8080/",
          "height": 226
        },
        "outputId": "480f4a5f-8ed1-419c-968c-089b88eb894a"
      },
      "source": [
        "# Carregando os dados\n",
        "df_original = pd.read_csv('/content/online_shoppers_intention.csv')\n",
        "df_original.head()"
      ],
      "execution_count": null,
      "outputs": [
        {
          "output_type": "execute_result",
          "data": {
            "text/plain": [
              "   Administrative  Administrative_Duration  Informational  \\\n",
              "0             0.0                      0.0            0.0   \n",
              "1             0.0                      0.0            0.0   \n",
              "2             0.0                     -1.0            0.0   \n",
              "3             0.0                      0.0            0.0   \n",
              "4             0.0                      0.0            0.0   \n",
              "\n",
              "   Informational_Duration  ProductRelated  ProductRelated_Duration  \\\n",
              "0                     0.0             1.0                 0.000000   \n",
              "1                     0.0             2.0                64.000000   \n",
              "2                    -1.0             1.0                -1.000000   \n",
              "3                     0.0             2.0                 2.666667   \n",
              "4                     0.0            10.0               627.500000   \n",
              "\n",
              "   BounceRates  ExitRates  PageValues  SpecialDay Month  OperatingSystems  \\\n",
              "0         0.20       0.20         0.0         0.0   Feb                 1   \n",
              "1         0.00       0.10         0.0         0.0   Feb                 2   \n",
              "2         0.20       0.20         0.0         0.0   Feb                 4   \n",
              "3         0.05       0.14         0.0         0.0   Feb                 3   \n",
              "4         0.02       0.05         0.0         0.0   Feb                 3   \n",
              "\n",
              "   Browser  Region  TrafficType        VisitorType  Weekend  Revenue  \n",
              "0        1       1            1  Returning_Visitor    False    False  \n",
              "1        2       1            2  Returning_Visitor    False    False  \n",
              "2        1       9            3  Returning_Visitor    False    False  \n",
              "3        2       2            4  Returning_Visitor    False    False  \n",
              "4        3       1            4  Returning_Visitor     True    False  "
            ],
            "text/html": [
              "\n",
              "  <div id=\"df-785d0e89-51b0-407c-b03c-427db54960db\" class=\"colab-df-container\">\n",
              "    <div>\n",
              "<style scoped>\n",
              "    .dataframe tbody tr th:only-of-type {\n",
              "        vertical-align: middle;\n",
              "    }\n",
              "\n",
              "    .dataframe tbody tr th {\n",
              "        vertical-align: top;\n",
              "    }\n",
              "\n",
              "    .dataframe thead th {\n",
              "        text-align: right;\n",
              "    }\n",
              "</style>\n",
              "<table border=\"1\" class=\"dataframe\">\n",
              "  <thead>\n",
              "    <tr style=\"text-align: right;\">\n",
              "      <th></th>\n",
              "      <th>Administrative</th>\n",
              "      <th>Administrative_Duration</th>\n",
              "      <th>Informational</th>\n",
              "      <th>Informational_Duration</th>\n",
              "      <th>ProductRelated</th>\n",
              "      <th>ProductRelated_Duration</th>\n",
              "      <th>BounceRates</th>\n",
              "      <th>ExitRates</th>\n",
              "      <th>PageValues</th>\n",
              "      <th>SpecialDay</th>\n",
              "      <th>Month</th>\n",
              "      <th>OperatingSystems</th>\n",
              "      <th>Browser</th>\n",
              "      <th>Region</th>\n",
              "      <th>TrafficType</th>\n",
              "      <th>VisitorType</th>\n",
              "      <th>Weekend</th>\n",
              "      <th>Revenue</th>\n",
              "    </tr>\n",
              "  </thead>\n",
              "  <tbody>\n",
              "    <tr>\n",
              "      <th>0</th>\n",
              "      <td>0.0</td>\n",
              "      <td>0.0</td>\n",
              "      <td>0.0</td>\n",
              "      <td>0.0</td>\n",
              "      <td>1.0</td>\n",
              "      <td>0.000000</td>\n",
              "      <td>0.20</td>\n",
              "      <td>0.20</td>\n",
              "      <td>0.0</td>\n",
              "      <td>0.0</td>\n",
              "      <td>Feb</td>\n",
              "      <td>1</td>\n",
              "      <td>1</td>\n",
              "      <td>1</td>\n",
              "      <td>1</td>\n",
              "      <td>Returning_Visitor</td>\n",
              "      <td>False</td>\n",
              "      <td>False</td>\n",
              "    </tr>\n",
              "    <tr>\n",
              "      <th>1</th>\n",
              "      <td>0.0</td>\n",
              "      <td>0.0</td>\n",
              "      <td>0.0</td>\n",
              "      <td>0.0</td>\n",
              "      <td>2.0</td>\n",
              "      <td>64.000000</td>\n",
              "      <td>0.00</td>\n",
              "      <td>0.10</td>\n",
              "      <td>0.0</td>\n",
              "      <td>0.0</td>\n",
              "      <td>Feb</td>\n",
              "      <td>2</td>\n",
              "      <td>2</td>\n",
              "      <td>1</td>\n",
              "      <td>2</td>\n",
              "      <td>Returning_Visitor</td>\n",
              "      <td>False</td>\n",
              "      <td>False</td>\n",
              "    </tr>\n",
              "    <tr>\n",
              "      <th>2</th>\n",
              "      <td>0.0</td>\n",
              "      <td>-1.0</td>\n",
              "      <td>0.0</td>\n",
              "      <td>-1.0</td>\n",
              "      <td>1.0</td>\n",
              "      <td>-1.000000</td>\n",
              "      <td>0.20</td>\n",
              "      <td>0.20</td>\n",
              "      <td>0.0</td>\n",
              "      <td>0.0</td>\n",
              "      <td>Feb</td>\n",
              "      <td>4</td>\n",
              "      <td>1</td>\n",
              "      <td>9</td>\n",
              "      <td>3</td>\n",
              "      <td>Returning_Visitor</td>\n",
              "      <td>False</td>\n",
              "      <td>False</td>\n",
              "    </tr>\n",
              "    <tr>\n",
              "      <th>3</th>\n",
              "      <td>0.0</td>\n",
              "      <td>0.0</td>\n",
              "      <td>0.0</td>\n",
              "      <td>0.0</td>\n",
              "      <td>2.0</td>\n",
              "      <td>2.666667</td>\n",
              "      <td>0.05</td>\n",
              "      <td>0.14</td>\n",
              "      <td>0.0</td>\n",
              "      <td>0.0</td>\n",
              "      <td>Feb</td>\n",
              "      <td>3</td>\n",
              "      <td>2</td>\n",
              "      <td>2</td>\n",
              "      <td>4</td>\n",
              "      <td>Returning_Visitor</td>\n",
              "      <td>False</td>\n",
              "      <td>False</td>\n",
              "    </tr>\n",
              "    <tr>\n",
              "      <th>4</th>\n",
              "      <td>0.0</td>\n",
              "      <td>0.0</td>\n",
              "      <td>0.0</td>\n",
              "      <td>0.0</td>\n",
              "      <td>10.0</td>\n",
              "      <td>627.500000</td>\n",
              "      <td>0.02</td>\n",
              "      <td>0.05</td>\n",
              "      <td>0.0</td>\n",
              "      <td>0.0</td>\n",
              "      <td>Feb</td>\n",
              "      <td>3</td>\n",
              "      <td>3</td>\n",
              "      <td>1</td>\n",
              "      <td>4</td>\n",
              "      <td>Returning_Visitor</td>\n",
              "      <td>True</td>\n",
              "      <td>False</td>\n",
              "    </tr>\n",
              "  </tbody>\n",
              "</table>\n",
              "</div>\n",
              "    <div class=\"colab-df-buttons\">\n",
              "\n",
              "  <div class=\"colab-df-container\">\n",
              "    <button class=\"colab-df-convert\" onclick=\"convertToInteractive('df-785d0e89-51b0-407c-b03c-427db54960db')\"\n",
              "            title=\"Convert this dataframe to an interactive table.\"\n",
              "            style=\"display:none;\">\n",
              "\n",
              "  <svg xmlns=\"http://www.w3.org/2000/svg\" height=\"24px\" viewBox=\"0 -960 960 960\">\n",
              "    <path d=\"M120-120v-720h720v720H120Zm60-500h600v-160H180v160Zm220 220h160v-160H400v160Zm0 220h160v-160H400v160ZM180-400h160v-160H180v160Zm440 0h160v-160H620v160ZM180-180h160v-160H180v160Zm440 0h160v-160H620v160Z\"/>\n",
              "  </svg>\n",
              "    </button>\n",
              "\n",
              "  <style>\n",
              "    .colab-df-container {\n",
              "      display:flex;\n",
              "      gap: 12px;\n",
              "    }\n",
              "\n",
              "    .colab-df-convert {\n",
              "      background-color: #E8F0FE;\n",
              "      border: none;\n",
              "      border-radius: 50%;\n",
              "      cursor: pointer;\n",
              "      display: none;\n",
              "      fill: #1967D2;\n",
              "      height: 32px;\n",
              "      padding: 0 0 0 0;\n",
              "      width: 32px;\n",
              "    }\n",
              "\n",
              "    .colab-df-convert:hover {\n",
              "      background-color: #E2EBFA;\n",
              "      box-shadow: 0px 1px 2px rgba(60, 64, 67, 0.3), 0px 1px 3px 1px rgba(60, 64, 67, 0.15);\n",
              "      fill: #174EA6;\n",
              "    }\n",
              "\n",
              "    .colab-df-buttons div {\n",
              "      margin-bottom: 4px;\n",
              "    }\n",
              "\n",
              "    [theme=dark] .colab-df-convert {\n",
              "      background-color: #3B4455;\n",
              "      fill: #D2E3FC;\n",
              "    }\n",
              "\n",
              "    [theme=dark] .colab-df-convert:hover {\n",
              "      background-color: #434B5C;\n",
              "      box-shadow: 0px 1px 3px 1px rgba(0, 0, 0, 0.15);\n",
              "      filter: drop-shadow(0px 1px 2px rgba(0, 0, 0, 0.3));\n",
              "      fill: #FFFFFF;\n",
              "    }\n",
              "  </style>\n",
              "\n",
              "    <script>\n",
              "      const buttonEl =\n",
              "        document.querySelector('#df-785d0e89-51b0-407c-b03c-427db54960db button.colab-df-convert');\n",
              "      buttonEl.style.display =\n",
              "        google.colab.kernel.accessAllowed ? 'block' : 'none';\n",
              "\n",
              "      async function convertToInteractive(key) {\n",
              "        const element = document.querySelector('#df-785d0e89-51b0-407c-b03c-427db54960db');\n",
              "        const dataTable =\n",
              "          await google.colab.kernel.invokeFunction('convertToInteractive',\n",
              "                                                    [key], {});\n",
              "        if (!dataTable) return;\n",
              "\n",
              "        const docLinkHtml = 'Like what you see? Visit the ' +\n",
              "          '<a target=\"_blank\" href=https://colab.research.google.com/notebooks/data_table.ipynb>data table notebook</a>'\n",
              "          + ' to learn more about interactive tables.';\n",
              "        element.innerHTML = '';\n",
              "        dataTable['output_type'] = 'display_data';\n",
              "        await google.colab.output.renderOutput(dataTable, element);\n",
              "        const docLink = document.createElement('div');\n",
              "        docLink.innerHTML = docLinkHtml;\n",
              "        element.appendChild(docLink);\n",
              "      }\n",
              "    </script>\n",
              "  </div>\n",
              "\n",
              "\n",
              "<div id=\"df-b156a423-b40d-4db7-9144-404e3ee95708\">\n",
              "  <button class=\"colab-df-quickchart\" onclick=\"quickchart('df-b156a423-b40d-4db7-9144-404e3ee95708')\"\n",
              "            title=\"Suggest charts\"\n",
              "            style=\"display:none;\">\n",
              "\n",
              "<svg xmlns=\"http://www.w3.org/2000/svg\" height=\"24px\"viewBox=\"0 0 24 24\"\n",
              "     width=\"24px\">\n",
              "    <g>\n",
              "        <path d=\"M19 3H5c-1.1 0-2 .9-2 2v14c0 1.1.9 2 2 2h14c1.1 0 2-.9 2-2V5c0-1.1-.9-2-2-2zM9 17H7v-7h2v7zm4 0h-2V7h2v10zm4 0h-2v-4h2v4z\"/>\n",
              "    </g>\n",
              "</svg>\n",
              "  </button>\n",
              "\n",
              "<style>\n",
              "  .colab-df-quickchart {\n",
              "      --bg-color: #E8F0FE;\n",
              "      --fill-color: #1967D2;\n",
              "      --hover-bg-color: #E2EBFA;\n",
              "      --hover-fill-color: #174EA6;\n",
              "      --disabled-fill-color: #AAA;\n",
              "      --disabled-bg-color: #DDD;\n",
              "  }\n",
              "\n",
              "  [theme=dark] .colab-df-quickchart {\n",
              "      --bg-color: #3B4455;\n",
              "      --fill-color: #D2E3FC;\n",
              "      --hover-bg-color: #434B5C;\n",
              "      --hover-fill-color: #FFFFFF;\n",
              "      --disabled-bg-color: #3B4455;\n",
              "      --disabled-fill-color: #666;\n",
              "  }\n",
              "\n",
              "  .colab-df-quickchart {\n",
              "    background-color: var(--bg-color);\n",
              "    border: none;\n",
              "    border-radius: 50%;\n",
              "    cursor: pointer;\n",
              "    display: none;\n",
              "    fill: var(--fill-color);\n",
              "    height: 32px;\n",
              "    padding: 0;\n",
              "    width: 32px;\n",
              "  }\n",
              "\n",
              "  .colab-df-quickchart:hover {\n",
              "    background-color: var(--hover-bg-color);\n",
              "    box-shadow: 0 1px 2px rgba(60, 64, 67, 0.3), 0 1px 3px 1px rgba(60, 64, 67, 0.15);\n",
              "    fill: var(--button-hover-fill-color);\n",
              "  }\n",
              "\n",
              "  .colab-df-quickchart-complete:disabled,\n",
              "  .colab-df-quickchart-complete:disabled:hover {\n",
              "    background-color: var(--disabled-bg-color);\n",
              "    fill: var(--disabled-fill-color);\n",
              "    box-shadow: none;\n",
              "  }\n",
              "\n",
              "  .colab-df-spinner {\n",
              "    border: 2px solid var(--fill-color);\n",
              "    border-color: transparent;\n",
              "    border-bottom-color: var(--fill-color);\n",
              "    animation:\n",
              "      spin 1s steps(1) infinite;\n",
              "  }\n",
              "\n",
              "  @keyframes spin {\n",
              "    0% {\n",
              "      border-color: transparent;\n",
              "      border-bottom-color: var(--fill-color);\n",
              "      border-left-color: var(--fill-color);\n",
              "    }\n",
              "    20% {\n",
              "      border-color: transparent;\n",
              "      border-left-color: var(--fill-color);\n",
              "      border-top-color: var(--fill-color);\n",
              "    }\n",
              "    30% {\n",
              "      border-color: transparent;\n",
              "      border-left-color: var(--fill-color);\n",
              "      border-top-color: var(--fill-color);\n",
              "      border-right-color: var(--fill-color);\n",
              "    }\n",
              "    40% {\n",
              "      border-color: transparent;\n",
              "      border-right-color: var(--fill-color);\n",
              "      border-top-color: var(--fill-color);\n",
              "    }\n",
              "    60% {\n",
              "      border-color: transparent;\n",
              "      border-right-color: var(--fill-color);\n",
              "    }\n",
              "    80% {\n",
              "      border-color: transparent;\n",
              "      border-right-color: var(--fill-color);\n",
              "      border-bottom-color: var(--fill-color);\n",
              "    }\n",
              "    90% {\n",
              "      border-color: transparent;\n",
              "      border-bottom-color: var(--fill-color);\n",
              "    }\n",
              "  }\n",
              "</style>\n",
              "\n",
              "  <script>\n",
              "    async function quickchart(key) {\n",
              "      const quickchartButtonEl =\n",
              "        document.querySelector('#' + key + ' button');\n",
              "      quickchartButtonEl.disabled = true;  // To prevent multiple clicks.\n",
              "      quickchartButtonEl.classList.add('colab-df-spinner');\n",
              "      try {\n",
              "        const charts = await google.colab.kernel.invokeFunction(\n",
              "            'suggestCharts', [key], {});\n",
              "      } catch (error) {\n",
              "        console.error('Error during call to suggestCharts:', error);\n",
              "      }\n",
              "      quickchartButtonEl.classList.remove('colab-df-spinner');\n",
              "      quickchartButtonEl.classList.add('colab-df-quickchart-complete');\n",
              "    }\n",
              "    (() => {\n",
              "      let quickchartButtonEl =\n",
              "        document.querySelector('#df-b156a423-b40d-4db7-9144-404e3ee95708 button');\n",
              "      quickchartButtonEl.style.display =\n",
              "        google.colab.kernel.accessAllowed ? 'block' : 'none';\n",
              "    })();\n",
              "  </script>\n",
              "</div>\n",
              "\n",
              "    </div>\n",
              "  </div>\n"
            ]
          },
          "metadata": {},
          "execution_count": 4
        }
      ]
    },
    {
      "cell_type": "markdown",
      "metadata": {
        "id": "sT_OJ0fWPLi9"
      },
      "source": [
        "## AD - Arquitetura dos Dados"
      ]
    },
    {
      "cell_type": "markdown",
      "metadata": {
        "id": "R31FiAm5PU4c"
      },
      "source": [
        "**\"Administrativo\", \"Duração administrativa\", \"Informativo\", \"Duração informativo\", \"Relacionado ao produto\" e \"Duração relacionada ao produto\"** representam o número de diferentes tipos de páginas visitadas pelo visitante nessa sessão e o tempo total gasto em cada uma dessas categorias de página. Os valores desses recursos são derivados das informações de URL das páginas visitadas pelo usuário e atualizadas em tempo real quando um usuário executa uma ação, por exemplo, passando de uma página para outra.\n",
        "\n",
        "Os recursos **\"Taxa de rejeição\", \"Taxa de saída\" e \"Valor da página\" **representam as métricas medidas pelo \"Google Analytics\" para cada página no site de comércio eletrônico.\n",
        "\n",
        "O valor do recurso **\"Taxa de rejeição\"** de uma página da web refere-se à porcentagem de visitantes que entram no site a partir dessa página e saem (\"rejeição\") sem acionar outras solicitações ao servidor durante essa sessão.\n",
        "\n",
        "O valor do recurso **\"Taxa de saída\"** para uma página da web específica é calculado como a porcentagem que foi a última na sessão, para todas as exibições de página a página.\n",
        "\n",
        "O recurso **\"Valor da página\"** representa o valor médio para uma página da web que um usuário visitou antes de concluir uma transação de comércio eletrônico.\n",
        "\n",
        "O recurso **\"Dia especial\"** indica a proximidade do horário de visita do site a um dia especial específico (por exemplo, dia das mães, dia dos namorados) em que as sessões têm mais probabilidade de serem finalizadas com a transação. O valor desse atributo é determinado considerando a dinâmica do comércio eletrônico, como a duração entre a data do pedido e a data de entrega. Por exemplo, no dia dos namorados, esse valor assume um valor diferente de zero entre 2 e 12 de fevereiro (dia dos namorados nos EUA e Europa), zero antes e depois dessa data, a menos que esteja próximo de outro dia especial e seu valor máximo de 1 em 8 de fevereiro.\n",
        "\n",
        "O conjunto de dados também inclui o tipo de **sistema operacional, navegador, região, tipo de tráfego, tipo de visitante como visitante novo ou recorrente, um valor booleano indicando se a data da visita é final de semana e mês do ano.**\n",
        "\n",
        "A variável alvo **(Revenue)** é booleana, com **True se a sessão gerou** **receita** e False se não gerou."
      ]
    },
    {
      "cell_type": "markdown",
      "metadata": {
        "id": "DP8c7YB2guXc"
      },
      "source": [
        "## Explorando Dados"
      ]
    },
    {
      "cell_type": "code",
      "metadata": {
        "id": "z-M0prpqguXd",
        "outputId": "f6b33087-c74c-462e-cfb1-057a3e4eb1e8",
        "colab": {
          "base_uri": "https://localhost:8080/"
        }
      },
      "source": [
        "# Shape\n",
        "df_original.shape"
      ],
      "execution_count": null,
      "outputs": [
        {
          "output_type": "execute_result",
          "data": {
            "text/plain": [
              "(12330, 18)"
            ]
          },
          "metadata": {},
          "execution_count": 5
        }
      ]
    },
    {
      "cell_type": "code",
      "metadata": {
        "id": "cl-rws1nguXk",
        "colab": {
          "base_uri": "https://localhost:8080/"
        },
        "outputId": "31400913-74b1-47cb-da30-31223c8ae8f5"
      },
      "source": [
        "# Tipos de Dados\n",
        "df_original.dtypes"
      ],
      "execution_count": null,
      "outputs": [
        {
          "output_type": "execute_result",
          "data": {
            "text/plain": [
              "Administrative             float64\n",
              "Administrative_Duration    float64\n",
              "Informational              float64\n",
              "Informational_Duration     float64\n",
              "ProductRelated             float64\n",
              "ProductRelated_Duration    float64\n",
              "BounceRates                float64\n",
              "ExitRates                  float64\n",
              "PageValues                 float64\n",
              "SpecialDay                 float64\n",
              "Month                       object\n",
              "OperatingSystems             int64\n",
              "Browser                      int64\n",
              "Region                       int64\n",
              "TrafficType                  int64\n",
              "VisitorType                 object\n",
              "Weekend                       bool\n",
              "Revenue                       bool\n",
              "dtype: object"
            ]
          },
          "metadata": {},
          "execution_count": 6
        }
      ]
    },
    {
      "cell_type": "code",
      "metadata": {
        "id": "i3ZsWbgqguXq",
        "colab": {
          "base_uri": "https://localhost:8080/"
        },
        "outputId": "2a6d3b74-c88e-490c-8027-fd2a5c48c765"
      },
      "source": [
        "# Verificando valores missing\n",
        "print(df_original.isna().sum())"
      ],
      "execution_count": null,
      "outputs": [
        {
          "output_type": "stream",
          "name": "stdout",
          "text": [
            "Administrative             14\n",
            "Administrative_Duration    14\n",
            "Informational              14\n",
            "Informational_Duration     14\n",
            "ProductRelated             14\n",
            "ProductRelated_Duration    14\n",
            "BounceRates                14\n",
            "ExitRates                  14\n",
            "PageValues                  0\n",
            "SpecialDay                  0\n",
            "Month                       0\n",
            "OperatingSystems            0\n",
            "Browser                     0\n",
            "Region                      0\n",
            "TrafficType                 0\n",
            "VisitorType                 0\n",
            "Weekend                     0\n",
            "Revenue                     0\n",
            "dtype: int64\n"
          ]
        }
      ]
    },
    {
      "cell_type": "code",
      "metadata": {
        "id": "0__j21nyguXu"
      },
      "source": [
        "# Removendo as linhas com valores missing\n",
        "df_original.dropna(inplace = True)"
      ],
      "execution_count": null,
      "outputs": []
    },
    {
      "cell_type": "code",
      "metadata": {
        "id": "tNnZlFrFguXx",
        "colab": {
          "base_uri": "https://localhost:8080/"
        },
        "outputId": "2e8ca183-ee13-45a6-cd19-b2dd7ed6dbee"
      },
      "source": [
        "# Verificando valores missing\n",
        "print(df_original.isna().sum())"
      ],
      "execution_count": null,
      "outputs": [
        {
          "output_type": "stream",
          "name": "stdout",
          "text": [
            "Administrative             0\n",
            "Administrative_Duration    0\n",
            "Informational              0\n",
            "Informational_Duration     0\n",
            "ProductRelated             0\n",
            "ProductRelated_Duration    0\n",
            "BounceRates                0\n",
            "ExitRates                  0\n",
            "PageValues                 0\n",
            "SpecialDay                 0\n",
            "Month                      0\n",
            "OperatingSystems           0\n",
            "Browser                    0\n",
            "Region                     0\n",
            "TrafficType                0\n",
            "VisitorType                0\n",
            "Weekend                    0\n",
            "Revenue                    0\n",
            "dtype: int64\n"
          ]
        }
      ]
    },
    {
      "cell_type": "code",
      "metadata": {
        "id": "inqEY6VDguX0",
        "outputId": "dc39fbba-7292-4f2a-83a2-6544d94128c8",
        "colab": {
          "base_uri": "https://localhost:8080/"
        }
      },
      "source": [
        "# Shape\n",
        "df_original.shape"
      ],
      "execution_count": null,
      "outputs": [
        {
          "output_type": "execute_result",
          "data": {
            "text/plain": [
              "(12316, 18)"
            ]
          },
          "metadata": {},
          "execution_count": 10
        }
      ]
    },
    {
      "cell_type": "code",
      "metadata": {
        "id": "SN9anJQaguX4",
        "colab": {
          "base_uri": "https://localhost:8080/"
        },
        "outputId": "10d6a09b-644b-41c4-b56c-d8011b2226f0"
      },
      "source": [
        "# Verificando Valores Únicos\n",
        "df_original.nunique()"
      ],
      "execution_count": null,
      "outputs": [
        {
          "output_type": "execute_result",
          "data": {
            "text/plain": [
              "Administrative               27\n",
              "Administrative_Duration    3336\n",
              "Informational                17\n",
              "Informational_Duration     1259\n",
              "ProductRelated              311\n",
              "ProductRelated_Duration    9552\n",
              "BounceRates                1872\n",
              "ExitRates                  4777\n",
              "PageValues                 2704\n",
              "SpecialDay                    6\n",
              "Month                        10\n",
              "OperatingSystems              8\n",
              "Browser                      13\n",
              "Region                        9\n",
              "TrafficType                  20\n",
              "VisitorType                   3\n",
              "Weekend                       2\n",
              "Revenue                       2\n",
              "dtype: int64"
            ]
          },
          "metadata": {},
          "execution_count": 11
        }
      ]
    },
    {
      "cell_type": "markdown",
      "metadata": {
        "id": "PqR1rqU2guX9"
      },
      "source": [
        "Para fins de visualização, dividiremos os dados em variáveis **contínuas e categóricas**. Trataremos todas as variáveis com menos de 30 entradas únicas como categóricas."
      ]
    },
    {
      "cell_type": "code",
      "metadata": {
        "id": "DTWH2Gn4guX-"
      },
      "source": [
        "# Preparando os dados para o plot\n",
        "\n",
        "# Cria uma cópia do dataset original\n",
        "df = df_original.copy()\n",
        "\n",
        "# Listas vazias para os resultados\n",
        "continuous = []\n",
        "categorical = []\n",
        "\n",
        "# Loop pelas colunas\n",
        "for c in df.columns[:-1]:\n",
        "    if df.nunique()[c] >= 30:\n",
        "        continuous.append(c)\n",
        "    else:\n",
        "        categorical.append(c)"
      ],
      "execution_count": null,
      "outputs": []
    },
    {
      "cell_type": "code",
      "metadata": {
        "id": "xR1MibYQguYA",
        "colab": {
          "base_uri": "https://localhost:8080/"
        },
        "outputId": "f20794d6-fd1e-4f31-a487-a815c8221ad5"
      },
      "source": [
        "continuous"
      ],
      "execution_count": null,
      "outputs": [
        {
          "output_type": "execute_result",
          "data": {
            "text/plain": [
              "['Administrative_Duration',\n",
              " 'Informational_Duration',\n",
              " 'ProductRelated',\n",
              " 'ProductRelated_Duration',\n",
              " 'BounceRates',\n",
              " 'ExitRates',\n",
              " 'PageValues']"
            ]
          },
          "metadata": {},
          "execution_count": 13
        }
      ]
    },
    {
      "cell_type": "code",
      "metadata": {
        "id": "95b2viAprw7N",
        "colab": {
          "base_uri": "https://localhost:8080/"
        },
        "outputId": "23678f94-536d-4d45-e867-39b2da01a6e5"
      },
      "source": [
        "categorical"
      ],
      "execution_count": null,
      "outputs": [
        {
          "output_type": "execute_result",
          "data": {
            "text/plain": [
              "['Administrative',\n",
              " 'Informational',\n",
              " 'SpecialDay',\n",
              " 'Month',\n",
              " 'OperatingSystems',\n",
              " 'Browser',\n",
              " 'Region',\n",
              " 'TrafficType',\n",
              " 'VisitorType',\n",
              " 'Weekend']"
            ]
          },
          "metadata": {},
          "execution_count": 14
        }
      ]
    },
    {
      "cell_type": "code",
      "metadata": {
        "id": "ou8_QKOUguYE",
        "colab": {
          "base_uri": "https://localhost:8080/",
          "height": 206
        },
        "outputId": "397212a4-f092-4951-890e-d1272ab48296"
      },
      "source": [
        "# Variáveis contínuas\n",
        "df[continuous].head()"
      ],
      "execution_count": null,
      "outputs": [
        {
          "output_type": "execute_result",
          "data": {
            "text/plain": [
              "   Administrative_Duration  Informational_Duration  ProductRelated  \\\n",
              "0                      0.0                     0.0             1.0   \n",
              "1                      0.0                     0.0             2.0   \n",
              "2                     -1.0                    -1.0             1.0   \n",
              "3                      0.0                     0.0             2.0   \n",
              "4                      0.0                     0.0            10.0   \n",
              "\n",
              "   ProductRelated_Duration  BounceRates  ExitRates  PageValues  \n",
              "0                 0.000000         0.20       0.20         0.0  \n",
              "1                64.000000         0.00       0.10         0.0  \n",
              "2                -1.000000         0.20       0.20         0.0  \n",
              "3                 2.666667         0.05       0.14         0.0  \n",
              "4               627.500000         0.02       0.05         0.0  "
            ],
            "text/html": [
              "\n",
              "  <div id=\"df-8b03d53d-e459-45bd-b045-cbaab9ed483d\" class=\"colab-df-container\">\n",
              "    <div>\n",
              "<style scoped>\n",
              "    .dataframe tbody tr th:only-of-type {\n",
              "        vertical-align: middle;\n",
              "    }\n",
              "\n",
              "    .dataframe tbody tr th {\n",
              "        vertical-align: top;\n",
              "    }\n",
              "\n",
              "    .dataframe thead th {\n",
              "        text-align: right;\n",
              "    }\n",
              "</style>\n",
              "<table border=\"1\" class=\"dataframe\">\n",
              "  <thead>\n",
              "    <tr style=\"text-align: right;\">\n",
              "      <th></th>\n",
              "      <th>Administrative_Duration</th>\n",
              "      <th>Informational_Duration</th>\n",
              "      <th>ProductRelated</th>\n",
              "      <th>ProductRelated_Duration</th>\n",
              "      <th>BounceRates</th>\n",
              "      <th>ExitRates</th>\n",
              "      <th>PageValues</th>\n",
              "    </tr>\n",
              "  </thead>\n",
              "  <tbody>\n",
              "    <tr>\n",
              "      <th>0</th>\n",
              "      <td>0.0</td>\n",
              "      <td>0.0</td>\n",
              "      <td>1.0</td>\n",
              "      <td>0.000000</td>\n",
              "      <td>0.20</td>\n",
              "      <td>0.20</td>\n",
              "      <td>0.0</td>\n",
              "    </tr>\n",
              "    <tr>\n",
              "      <th>1</th>\n",
              "      <td>0.0</td>\n",
              "      <td>0.0</td>\n",
              "      <td>2.0</td>\n",
              "      <td>64.000000</td>\n",
              "      <td>0.00</td>\n",
              "      <td>0.10</td>\n",
              "      <td>0.0</td>\n",
              "    </tr>\n",
              "    <tr>\n",
              "      <th>2</th>\n",
              "      <td>-1.0</td>\n",
              "      <td>-1.0</td>\n",
              "      <td>1.0</td>\n",
              "      <td>-1.000000</td>\n",
              "      <td>0.20</td>\n",
              "      <td>0.20</td>\n",
              "      <td>0.0</td>\n",
              "    </tr>\n",
              "    <tr>\n",
              "      <th>3</th>\n",
              "      <td>0.0</td>\n",
              "      <td>0.0</td>\n",
              "      <td>2.0</td>\n",
              "      <td>2.666667</td>\n",
              "      <td>0.05</td>\n",
              "      <td>0.14</td>\n",
              "      <td>0.0</td>\n",
              "    </tr>\n",
              "    <tr>\n",
              "      <th>4</th>\n",
              "      <td>0.0</td>\n",
              "      <td>0.0</td>\n",
              "      <td>10.0</td>\n",
              "      <td>627.500000</td>\n",
              "      <td>0.02</td>\n",
              "      <td>0.05</td>\n",
              "      <td>0.0</td>\n",
              "    </tr>\n",
              "  </tbody>\n",
              "</table>\n",
              "</div>\n",
              "    <div class=\"colab-df-buttons\">\n",
              "\n",
              "  <div class=\"colab-df-container\">\n",
              "    <button class=\"colab-df-convert\" onclick=\"convertToInteractive('df-8b03d53d-e459-45bd-b045-cbaab9ed483d')\"\n",
              "            title=\"Convert this dataframe to an interactive table.\"\n",
              "            style=\"display:none;\">\n",
              "\n",
              "  <svg xmlns=\"http://www.w3.org/2000/svg\" height=\"24px\" viewBox=\"0 -960 960 960\">\n",
              "    <path d=\"M120-120v-720h720v720H120Zm60-500h600v-160H180v160Zm220 220h160v-160H400v160Zm0 220h160v-160H400v160ZM180-400h160v-160H180v160Zm440 0h160v-160H620v160ZM180-180h160v-160H180v160Zm440 0h160v-160H620v160Z\"/>\n",
              "  </svg>\n",
              "    </button>\n",
              "\n",
              "  <style>\n",
              "    .colab-df-container {\n",
              "      display:flex;\n",
              "      gap: 12px;\n",
              "    }\n",
              "\n",
              "    .colab-df-convert {\n",
              "      background-color: #E8F0FE;\n",
              "      border: none;\n",
              "      border-radius: 50%;\n",
              "      cursor: pointer;\n",
              "      display: none;\n",
              "      fill: #1967D2;\n",
              "      height: 32px;\n",
              "      padding: 0 0 0 0;\n",
              "      width: 32px;\n",
              "    }\n",
              "\n",
              "    .colab-df-convert:hover {\n",
              "      background-color: #E2EBFA;\n",
              "      box-shadow: 0px 1px 2px rgba(60, 64, 67, 0.3), 0px 1px 3px 1px rgba(60, 64, 67, 0.15);\n",
              "      fill: #174EA6;\n",
              "    }\n",
              "\n",
              "    .colab-df-buttons div {\n",
              "      margin-bottom: 4px;\n",
              "    }\n",
              "\n",
              "    [theme=dark] .colab-df-convert {\n",
              "      background-color: #3B4455;\n",
              "      fill: #D2E3FC;\n",
              "    }\n",
              "\n",
              "    [theme=dark] .colab-df-convert:hover {\n",
              "      background-color: #434B5C;\n",
              "      box-shadow: 0px 1px 3px 1px rgba(0, 0, 0, 0.15);\n",
              "      filter: drop-shadow(0px 1px 2px rgba(0, 0, 0, 0.3));\n",
              "      fill: #FFFFFF;\n",
              "    }\n",
              "  </style>\n",
              "\n",
              "    <script>\n",
              "      const buttonEl =\n",
              "        document.querySelector('#df-8b03d53d-e459-45bd-b045-cbaab9ed483d button.colab-df-convert');\n",
              "      buttonEl.style.display =\n",
              "        google.colab.kernel.accessAllowed ? 'block' : 'none';\n",
              "\n",
              "      async function convertToInteractive(key) {\n",
              "        const element = document.querySelector('#df-8b03d53d-e459-45bd-b045-cbaab9ed483d');\n",
              "        const dataTable =\n",
              "          await google.colab.kernel.invokeFunction('convertToInteractive',\n",
              "                                                    [key], {});\n",
              "        if (!dataTable) return;\n",
              "\n",
              "        const docLinkHtml = 'Like what you see? Visit the ' +\n",
              "          '<a target=\"_blank\" href=https://colab.research.google.com/notebooks/data_table.ipynb>data table notebook</a>'\n",
              "          + ' to learn more about interactive tables.';\n",
              "        element.innerHTML = '';\n",
              "        dataTable['output_type'] = 'display_data';\n",
              "        await google.colab.output.renderOutput(dataTable, element);\n",
              "        const docLink = document.createElement('div');\n",
              "        docLink.innerHTML = docLinkHtml;\n",
              "        element.appendChild(docLink);\n",
              "      }\n",
              "    </script>\n",
              "  </div>\n",
              "\n",
              "\n",
              "<div id=\"df-0a9958a7-8d26-49e6-b088-5e0c5434d4b6\">\n",
              "  <button class=\"colab-df-quickchart\" onclick=\"quickchart('df-0a9958a7-8d26-49e6-b088-5e0c5434d4b6')\"\n",
              "            title=\"Suggest charts\"\n",
              "            style=\"display:none;\">\n",
              "\n",
              "<svg xmlns=\"http://www.w3.org/2000/svg\" height=\"24px\"viewBox=\"0 0 24 24\"\n",
              "     width=\"24px\">\n",
              "    <g>\n",
              "        <path d=\"M19 3H5c-1.1 0-2 .9-2 2v14c0 1.1.9 2 2 2h14c1.1 0 2-.9 2-2V5c0-1.1-.9-2-2-2zM9 17H7v-7h2v7zm4 0h-2V7h2v10zm4 0h-2v-4h2v4z\"/>\n",
              "    </g>\n",
              "</svg>\n",
              "  </button>\n",
              "\n",
              "<style>\n",
              "  .colab-df-quickchart {\n",
              "      --bg-color: #E8F0FE;\n",
              "      --fill-color: #1967D2;\n",
              "      --hover-bg-color: #E2EBFA;\n",
              "      --hover-fill-color: #174EA6;\n",
              "      --disabled-fill-color: #AAA;\n",
              "      --disabled-bg-color: #DDD;\n",
              "  }\n",
              "\n",
              "  [theme=dark] .colab-df-quickchart {\n",
              "      --bg-color: #3B4455;\n",
              "      --fill-color: #D2E3FC;\n",
              "      --hover-bg-color: #434B5C;\n",
              "      --hover-fill-color: #FFFFFF;\n",
              "      --disabled-bg-color: #3B4455;\n",
              "      --disabled-fill-color: #666;\n",
              "  }\n",
              "\n",
              "  .colab-df-quickchart {\n",
              "    background-color: var(--bg-color);\n",
              "    border: none;\n",
              "    border-radius: 50%;\n",
              "    cursor: pointer;\n",
              "    display: none;\n",
              "    fill: var(--fill-color);\n",
              "    height: 32px;\n",
              "    padding: 0;\n",
              "    width: 32px;\n",
              "  }\n",
              "\n",
              "  .colab-df-quickchart:hover {\n",
              "    background-color: var(--hover-bg-color);\n",
              "    box-shadow: 0 1px 2px rgba(60, 64, 67, 0.3), 0 1px 3px 1px rgba(60, 64, 67, 0.15);\n",
              "    fill: var(--button-hover-fill-color);\n",
              "  }\n",
              "\n",
              "  .colab-df-quickchart-complete:disabled,\n",
              "  .colab-df-quickchart-complete:disabled:hover {\n",
              "    background-color: var(--disabled-bg-color);\n",
              "    fill: var(--disabled-fill-color);\n",
              "    box-shadow: none;\n",
              "  }\n",
              "\n",
              "  .colab-df-spinner {\n",
              "    border: 2px solid var(--fill-color);\n",
              "    border-color: transparent;\n",
              "    border-bottom-color: var(--fill-color);\n",
              "    animation:\n",
              "      spin 1s steps(1) infinite;\n",
              "  }\n",
              "\n",
              "  @keyframes spin {\n",
              "    0% {\n",
              "      border-color: transparent;\n",
              "      border-bottom-color: var(--fill-color);\n",
              "      border-left-color: var(--fill-color);\n",
              "    }\n",
              "    20% {\n",
              "      border-color: transparent;\n",
              "      border-left-color: var(--fill-color);\n",
              "      border-top-color: var(--fill-color);\n",
              "    }\n",
              "    30% {\n",
              "      border-color: transparent;\n",
              "      border-left-color: var(--fill-color);\n",
              "      border-top-color: var(--fill-color);\n",
              "      border-right-color: var(--fill-color);\n",
              "    }\n",
              "    40% {\n",
              "      border-color: transparent;\n",
              "      border-right-color: var(--fill-color);\n",
              "      border-top-color: var(--fill-color);\n",
              "    }\n",
              "    60% {\n",
              "      border-color: transparent;\n",
              "      border-right-color: var(--fill-color);\n",
              "    }\n",
              "    80% {\n",
              "      border-color: transparent;\n",
              "      border-right-color: var(--fill-color);\n",
              "      border-bottom-color: var(--fill-color);\n",
              "    }\n",
              "    90% {\n",
              "      border-color: transparent;\n",
              "      border-bottom-color: var(--fill-color);\n",
              "    }\n",
              "  }\n",
              "</style>\n",
              "\n",
              "  <script>\n",
              "    async function quickchart(key) {\n",
              "      const quickchartButtonEl =\n",
              "        document.querySelector('#' + key + ' button');\n",
              "      quickchartButtonEl.disabled = true;  // To prevent multiple clicks.\n",
              "      quickchartButtonEl.classList.add('colab-df-spinner');\n",
              "      try {\n",
              "        const charts = await google.colab.kernel.invokeFunction(\n",
              "            'suggestCharts', [key], {});\n",
              "      } catch (error) {\n",
              "        console.error('Error during call to suggestCharts:', error);\n",
              "      }\n",
              "      quickchartButtonEl.classList.remove('colab-df-spinner');\n",
              "      quickchartButtonEl.classList.add('colab-df-quickchart-complete');\n",
              "    }\n",
              "    (() => {\n",
              "      let quickchartButtonEl =\n",
              "        document.querySelector('#df-0a9958a7-8d26-49e6-b088-5e0c5434d4b6 button');\n",
              "      quickchartButtonEl.style.display =\n",
              "        google.colab.kernel.accessAllowed ? 'block' : 'none';\n",
              "    })();\n",
              "  </script>\n",
              "</div>\n",
              "\n",
              "    </div>\n",
              "  </div>\n"
            ]
          },
          "metadata": {},
          "execution_count": 15
        }
      ]
    },
    {
      "cell_type": "code",
      "metadata": {
        "id": "m7A1cpzBguYI",
        "colab": {
          "base_uri": "https://localhost:8080/",
          "height": 206
        },
        "outputId": "16adc721-14f5-4f1f-e9dc-93526d16f98d"
      },
      "source": [
        "# Variáveis categóricas\n",
        "df[categorical].head()"
      ],
      "execution_count": null,
      "outputs": [
        {
          "output_type": "execute_result",
          "data": {
            "text/plain": [
              "   Administrative  Informational  SpecialDay Month  OperatingSystems  Browser  \\\n",
              "0             0.0            0.0         0.0   Feb                 1        1   \n",
              "1             0.0            0.0         0.0   Feb                 2        2   \n",
              "2             0.0            0.0         0.0   Feb                 4        1   \n",
              "3             0.0            0.0         0.0   Feb                 3        2   \n",
              "4             0.0            0.0         0.0   Feb                 3        3   \n",
              "\n",
              "   Region  TrafficType        VisitorType  Weekend  \n",
              "0       1            1  Returning_Visitor    False  \n",
              "1       1            2  Returning_Visitor    False  \n",
              "2       9            3  Returning_Visitor    False  \n",
              "3       2            4  Returning_Visitor    False  \n",
              "4       1            4  Returning_Visitor     True  "
            ],
            "text/html": [
              "\n",
              "  <div id=\"df-c3e01a8d-f40f-4ab7-9eaf-dcbb79b0b8be\" class=\"colab-df-container\">\n",
              "    <div>\n",
              "<style scoped>\n",
              "    .dataframe tbody tr th:only-of-type {\n",
              "        vertical-align: middle;\n",
              "    }\n",
              "\n",
              "    .dataframe tbody tr th {\n",
              "        vertical-align: top;\n",
              "    }\n",
              "\n",
              "    .dataframe thead th {\n",
              "        text-align: right;\n",
              "    }\n",
              "</style>\n",
              "<table border=\"1\" class=\"dataframe\">\n",
              "  <thead>\n",
              "    <tr style=\"text-align: right;\">\n",
              "      <th></th>\n",
              "      <th>Administrative</th>\n",
              "      <th>Informational</th>\n",
              "      <th>SpecialDay</th>\n",
              "      <th>Month</th>\n",
              "      <th>OperatingSystems</th>\n",
              "      <th>Browser</th>\n",
              "      <th>Region</th>\n",
              "      <th>TrafficType</th>\n",
              "      <th>VisitorType</th>\n",
              "      <th>Weekend</th>\n",
              "    </tr>\n",
              "  </thead>\n",
              "  <tbody>\n",
              "    <tr>\n",
              "      <th>0</th>\n",
              "      <td>0.0</td>\n",
              "      <td>0.0</td>\n",
              "      <td>0.0</td>\n",
              "      <td>Feb</td>\n",
              "      <td>1</td>\n",
              "      <td>1</td>\n",
              "      <td>1</td>\n",
              "      <td>1</td>\n",
              "      <td>Returning_Visitor</td>\n",
              "      <td>False</td>\n",
              "    </tr>\n",
              "    <tr>\n",
              "      <th>1</th>\n",
              "      <td>0.0</td>\n",
              "      <td>0.0</td>\n",
              "      <td>0.0</td>\n",
              "      <td>Feb</td>\n",
              "      <td>2</td>\n",
              "      <td>2</td>\n",
              "      <td>1</td>\n",
              "      <td>2</td>\n",
              "      <td>Returning_Visitor</td>\n",
              "      <td>False</td>\n",
              "    </tr>\n",
              "    <tr>\n",
              "      <th>2</th>\n",
              "      <td>0.0</td>\n",
              "      <td>0.0</td>\n",
              "      <td>0.0</td>\n",
              "      <td>Feb</td>\n",
              "      <td>4</td>\n",
              "      <td>1</td>\n",
              "      <td>9</td>\n",
              "      <td>3</td>\n",
              "      <td>Returning_Visitor</td>\n",
              "      <td>False</td>\n",
              "    </tr>\n",
              "    <tr>\n",
              "      <th>3</th>\n",
              "      <td>0.0</td>\n",
              "      <td>0.0</td>\n",
              "      <td>0.0</td>\n",
              "      <td>Feb</td>\n",
              "      <td>3</td>\n",
              "      <td>2</td>\n",
              "      <td>2</td>\n",
              "      <td>4</td>\n",
              "      <td>Returning_Visitor</td>\n",
              "      <td>False</td>\n",
              "    </tr>\n",
              "    <tr>\n",
              "      <th>4</th>\n",
              "      <td>0.0</td>\n",
              "      <td>0.0</td>\n",
              "      <td>0.0</td>\n",
              "      <td>Feb</td>\n",
              "      <td>3</td>\n",
              "      <td>3</td>\n",
              "      <td>1</td>\n",
              "      <td>4</td>\n",
              "      <td>Returning_Visitor</td>\n",
              "      <td>True</td>\n",
              "    </tr>\n",
              "  </tbody>\n",
              "</table>\n",
              "</div>\n",
              "    <div class=\"colab-df-buttons\">\n",
              "\n",
              "  <div class=\"colab-df-container\">\n",
              "    <button class=\"colab-df-convert\" onclick=\"convertToInteractive('df-c3e01a8d-f40f-4ab7-9eaf-dcbb79b0b8be')\"\n",
              "            title=\"Convert this dataframe to an interactive table.\"\n",
              "            style=\"display:none;\">\n",
              "\n",
              "  <svg xmlns=\"http://www.w3.org/2000/svg\" height=\"24px\" viewBox=\"0 -960 960 960\">\n",
              "    <path d=\"M120-120v-720h720v720H120Zm60-500h600v-160H180v160Zm220 220h160v-160H400v160Zm0 220h160v-160H400v160ZM180-400h160v-160H180v160Zm440 0h160v-160H620v160ZM180-180h160v-160H180v160Zm440 0h160v-160H620v160Z\"/>\n",
              "  </svg>\n",
              "    </button>\n",
              "\n",
              "  <style>\n",
              "    .colab-df-container {\n",
              "      display:flex;\n",
              "      gap: 12px;\n",
              "    }\n",
              "\n",
              "    .colab-df-convert {\n",
              "      background-color: #E8F0FE;\n",
              "      border: none;\n",
              "      border-radius: 50%;\n",
              "      cursor: pointer;\n",
              "      display: none;\n",
              "      fill: #1967D2;\n",
              "      height: 32px;\n",
              "      padding: 0 0 0 0;\n",
              "      width: 32px;\n",
              "    }\n",
              "\n",
              "    .colab-df-convert:hover {\n",
              "      background-color: #E2EBFA;\n",
              "      box-shadow: 0px 1px 2px rgba(60, 64, 67, 0.3), 0px 1px 3px 1px rgba(60, 64, 67, 0.15);\n",
              "      fill: #174EA6;\n",
              "    }\n",
              "\n",
              "    .colab-df-buttons div {\n",
              "      margin-bottom: 4px;\n",
              "    }\n",
              "\n",
              "    [theme=dark] .colab-df-convert {\n",
              "      background-color: #3B4455;\n",
              "      fill: #D2E3FC;\n",
              "    }\n",
              "\n",
              "    [theme=dark] .colab-df-convert:hover {\n",
              "      background-color: #434B5C;\n",
              "      box-shadow: 0px 1px 3px 1px rgba(0, 0, 0, 0.15);\n",
              "      filter: drop-shadow(0px 1px 2px rgba(0, 0, 0, 0.3));\n",
              "      fill: #FFFFFF;\n",
              "    }\n",
              "  </style>\n",
              "\n",
              "    <script>\n",
              "      const buttonEl =\n",
              "        document.querySelector('#df-c3e01a8d-f40f-4ab7-9eaf-dcbb79b0b8be button.colab-df-convert');\n",
              "      buttonEl.style.display =\n",
              "        google.colab.kernel.accessAllowed ? 'block' : 'none';\n",
              "\n",
              "      async function convertToInteractive(key) {\n",
              "        const element = document.querySelector('#df-c3e01a8d-f40f-4ab7-9eaf-dcbb79b0b8be');\n",
              "        const dataTable =\n",
              "          await google.colab.kernel.invokeFunction('convertToInteractive',\n",
              "                                                    [key], {});\n",
              "        if (!dataTable) return;\n",
              "\n",
              "        const docLinkHtml = 'Like what you see? Visit the ' +\n",
              "          '<a target=\"_blank\" href=https://colab.research.google.com/notebooks/data_table.ipynb>data table notebook</a>'\n",
              "          + ' to learn more about interactive tables.';\n",
              "        element.innerHTML = '';\n",
              "        dataTable['output_type'] = 'display_data';\n",
              "        await google.colab.output.renderOutput(dataTable, element);\n",
              "        const docLink = document.createElement('div');\n",
              "        docLink.innerHTML = docLinkHtml;\n",
              "        element.appendChild(docLink);\n",
              "      }\n",
              "    </script>\n",
              "  </div>\n",
              "\n",
              "\n",
              "<div id=\"df-fe125a06-c834-4f53-8bee-f87b670f2c24\">\n",
              "  <button class=\"colab-df-quickchart\" onclick=\"quickchart('df-fe125a06-c834-4f53-8bee-f87b670f2c24')\"\n",
              "            title=\"Suggest charts\"\n",
              "            style=\"display:none;\">\n",
              "\n",
              "<svg xmlns=\"http://www.w3.org/2000/svg\" height=\"24px\"viewBox=\"0 0 24 24\"\n",
              "     width=\"24px\">\n",
              "    <g>\n",
              "        <path d=\"M19 3H5c-1.1 0-2 .9-2 2v14c0 1.1.9 2 2 2h14c1.1 0 2-.9 2-2V5c0-1.1-.9-2-2-2zM9 17H7v-7h2v7zm4 0h-2V7h2v10zm4 0h-2v-4h2v4z\"/>\n",
              "    </g>\n",
              "</svg>\n",
              "  </button>\n",
              "\n",
              "<style>\n",
              "  .colab-df-quickchart {\n",
              "      --bg-color: #E8F0FE;\n",
              "      --fill-color: #1967D2;\n",
              "      --hover-bg-color: #E2EBFA;\n",
              "      --hover-fill-color: #174EA6;\n",
              "      --disabled-fill-color: #AAA;\n",
              "      --disabled-bg-color: #DDD;\n",
              "  }\n",
              "\n",
              "  [theme=dark] .colab-df-quickchart {\n",
              "      --bg-color: #3B4455;\n",
              "      --fill-color: #D2E3FC;\n",
              "      --hover-bg-color: #434B5C;\n",
              "      --hover-fill-color: #FFFFFF;\n",
              "      --disabled-bg-color: #3B4455;\n",
              "      --disabled-fill-color: #666;\n",
              "  }\n",
              "\n",
              "  .colab-df-quickchart {\n",
              "    background-color: var(--bg-color);\n",
              "    border: none;\n",
              "    border-radius: 50%;\n",
              "    cursor: pointer;\n",
              "    display: none;\n",
              "    fill: var(--fill-color);\n",
              "    height: 32px;\n",
              "    padding: 0;\n",
              "    width: 32px;\n",
              "  }\n",
              "\n",
              "  .colab-df-quickchart:hover {\n",
              "    background-color: var(--hover-bg-color);\n",
              "    box-shadow: 0 1px 2px rgba(60, 64, 67, 0.3), 0 1px 3px 1px rgba(60, 64, 67, 0.15);\n",
              "    fill: var(--button-hover-fill-color);\n",
              "  }\n",
              "\n",
              "  .colab-df-quickchart-complete:disabled,\n",
              "  .colab-df-quickchart-complete:disabled:hover {\n",
              "    background-color: var(--disabled-bg-color);\n",
              "    fill: var(--disabled-fill-color);\n",
              "    box-shadow: none;\n",
              "  }\n",
              "\n",
              "  .colab-df-spinner {\n",
              "    border: 2px solid var(--fill-color);\n",
              "    border-color: transparent;\n",
              "    border-bottom-color: var(--fill-color);\n",
              "    animation:\n",
              "      spin 1s steps(1) infinite;\n",
              "  }\n",
              "\n",
              "  @keyframes spin {\n",
              "    0% {\n",
              "      border-color: transparent;\n",
              "      border-bottom-color: var(--fill-color);\n",
              "      border-left-color: var(--fill-color);\n",
              "    }\n",
              "    20% {\n",
              "      border-color: transparent;\n",
              "      border-left-color: var(--fill-color);\n",
              "      border-top-color: var(--fill-color);\n",
              "    }\n",
              "    30% {\n",
              "      border-color: transparent;\n",
              "      border-left-color: var(--fill-color);\n",
              "      border-top-color: var(--fill-color);\n",
              "      border-right-color: var(--fill-color);\n",
              "    }\n",
              "    40% {\n",
              "      border-color: transparent;\n",
              "      border-right-color: var(--fill-color);\n",
              "      border-top-color: var(--fill-color);\n",
              "    }\n",
              "    60% {\n",
              "      border-color: transparent;\n",
              "      border-right-color: var(--fill-color);\n",
              "    }\n",
              "    80% {\n",
              "      border-color: transparent;\n",
              "      border-right-color: var(--fill-color);\n",
              "      border-bottom-color: var(--fill-color);\n",
              "    }\n",
              "    90% {\n",
              "      border-color: transparent;\n",
              "      border-bottom-color: var(--fill-color);\n",
              "    }\n",
              "  }\n",
              "</style>\n",
              "\n",
              "  <script>\n",
              "    async function quickchart(key) {\n",
              "      const quickchartButtonEl =\n",
              "        document.querySelector('#' + key + ' button');\n",
              "      quickchartButtonEl.disabled = true;  // To prevent multiple clicks.\n",
              "      quickchartButtonEl.classList.add('colab-df-spinner');\n",
              "      try {\n",
              "        const charts = await google.colab.kernel.invokeFunction(\n",
              "            'suggestCharts', [key], {});\n",
              "      } catch (error) {\n",
              "        console.error('Error during call to suggestCharts:', error);\n",
              "      }\n",
              "      quickchartButtonEl.classList.remove('colab-df-spinner');\n",
              "      quickchartButtonEl.classList.add('colab-df-quickchart-complete');\n",
              "    }\n",
              "    (() => {\n",
              "      let quickchartButtonEl =\n",
              "        document.querySelector('#df-fe125a06-c834-4f53-8bee-f87b670f2c24 button');\n",
              "      quickchartButtonEl.style.display =\n",
              "        google.colab.kernel.accessAllowed ? 'block' : 'none';\n",
              "    })();\n",
              "  </script>\n",
              "</div>\n",
              "\n",
              "    </div>\n",
              "  </div>\n"
            ]
          },
          "metadata": {},
          "execution_count": 16
        }
      ]
    },
    {
      "cell_type": "markdown",
      "metadata": {
        "id": "W0QApB6RguYL"
      },
      "source": [
        "Gráficos para variáveis numéricas."
      ]
    },
    {
      "cell_type": "code",
      "metadata": {
        "id": "VnLAdzzqguYM",
        "colab": {
          "base_uri": "https://localhost:8080/",
          "height": 731
        },
        "outputId": "bcecc18a-b716-4fe2-ff41-78b7fa760d32"
      },
      "source": [
        "# Plot das variáveis contínuas\n",
        "\n",
        "# Tamanho da área de plotagem\n",
        "fig = plt.figure(figsize = (15,10))\n",
        "\n",
        "# Loop pelas variáveis contínuas\n",
        "for i, col in enumerate(continuous):\n",
        "    plt.subplot(3, 3, i + 1);\n",
        "    df.boxplot(col);\n",
        "    plt.tight_layout()\n",
        "\n",
        "plt.savefig('boxplot1.png')"
      ],
      "execution_count": null,
      "outputs": [
        {
          "output_type": "display_data",
          "data": {
            "text/plain": [
              "<Figure size 1500x1000 with 7 Axes>"
            ],
            "image/png": "[encoded data removed]"
          },
          "metadata": {}
        }
      ]
    },
    {
      "cell_type": "markdown",
      "metadata": {
        "id": "kW8NCDouguYO"
      },
      "source": [
        "Variáveis contínuas parecem extremamente distorcidas. Vamos aplicar transformação de log para melhor visualização."
      ]
    },
    {
      "cell_type": "code",
      "metadata": {
        "id": "TN689jiRguYP"
      },
      "source": [
        "# Transformação de log nas variáveis contínuas\n",
        "df[continuous] = np.log1p(1 + df[continuous])"
      ],
      "execution_count": null,
      "outputs": []
    },
    {
      "cell_type": "code",
      "metadata": {
        "id": "IvI1OOmIguYR",
        "outputId": "acb6cf97-fec4-4949-afdd-ca7836518224",
        "colab": {
          "base_uri": "https://localhost:8080/",
          "height": 730
        }
      },
      "source": [
        "# Plot das variáveis contínuas\n",
        "\n",
        "# Tamanho da área de plotagem\n",
        "fig = plt.figure(figsize = (15,10))\n",
        "\n",
        "# Loop pelas variáveis contínuas\n",
        "for i,col in enumerate(continuous):\n",
        "    plt.subplot(3,3,i+1);\n",
        "    df.boxplot(col);\n",
        "    plt.tight_layout()\n",
        "plt.savefig('boxplot2.png')"
      ],
      "execution_count": null,
      "outputs": [
        {
          "output_type": "display_data",
          "data": {
            "text/plain": [
              "<Figure size 1500x1000 with 7 Axes>"
            ],
            "image/png": "[encoded data removed]"
          },
          "metadata": {}
        }
      ]
    },
    {
      "cell_type": "markdown",
      "metadata": {
        "id": "Eee6iQNjguYU"
      },
      "source": [
        "Matriz de Correlação Entre Variáveis Contínuas."
      ]
    },
    {
      "cell_type": "code",
      "metadata": {
        "id": "GXFfgsfNguYV",
        "outputId": "ffa0fe8c-7c7d-45eb-ce64-54e6903b979a",
        "colab": {
          "base_uri": "https://localhost:8080/",
          "height": 937
        }
      },
      "source": [
        "# Área de plotagem\n",
        "plt.figure(figsize = (10,10))\n",
        "\n",
        "# Matriz de Correlação\n",
        "sns.heatmap(df[['Administrative_Duration',\n",
        "                'Informational_Duration',\n",
        "                'ProductRelated_Duration',\n",
        "                'BounceRates',\n",
        "                'ExitRates',\n",
        "                'PageValues',\n",
        "                'Revenue']].corr(), vmax = 1., square = True)"
      ],
      "execution_count": null,
      "outputs": [
        {
          "output_type": "execute_result",
          "data": {
            "text/plain": [
              "<Axes: >"
            ]
          },
          "metadata": {},
          "execution_count": 20
        },
        {
          "output_type": "display_data",
          "data": {
            "text/plain": [
              "<Figure size 1000x1000 with 2 Axes>"
            ],
            "image/png": "[encoded data removed]"
          },
          "metadata": {}
        }
      ]
    },
    {
      "cell_type": "markdown",
      "metadata": {
        "id": "tlpV1JuvguYY"
      },
      "source": [
        "Visualização de gráficos de variáveis categóricas para analisar como a variável de destino é influenciada por elas."
      ]
    },
    {
      "cell_type": "code",
      "metadata": {
        "id": "l2SXNIAZguYZ",
        "outputId": "497892b6-cb70-476b-ef6c-ec1025af5db5",
        "colab": {
          "base_uri": "https://localhost:8080/",
          "height": 469
        }
      },
      "source": [
        "# Countplot Venda ou Não\n",
        "plt.subplot(1,2,2)\n",
        "plt.title(\"Venda ou Não\")\n",
        "sns.countplot(df['Revenue'])"
      ],
      "execution_count": null,
      "outputs": [
        {
          "output_type": "execute_result",
          "data": {
            "text/plain": [
              "<Axes: title={'center': 'Venda ou Não'}, ylabel='count'>"
            ]
          },
          "metadata": {},
          "execution_count": 21
        },
        {
          "output_type": "display_data",
          "data": {
            "text/plain": [
              "<Figure size 640x480 with 1 Axes>"
            ],
            "image/png": "[encoded data removed]"
          },
          "metadata": {}
        }
      ]
    },
    {
      "cell_type": "code",
      "metadata": {
        "id": "OPDwID-iguYc",
        "colab": {
          "base_uri": "https://localhost:8080/",
          "height": 828
        },
        "outputId": "3041245b-05d9-47d4-8f5a-0824d11da2a3"
      },
      "source": [
        "# Countplot Tipo de Visitante\n",
        "plt.xlabel(\"Tipo de Visitante\")\n",
        "sns.countplot(df['VisitorType'])\n",
        "df['VisitorType'] = df['VisitorType'].astype('category')\n",
        "sns.countplot(df['VisitorType'])\n"
      ],
      "execution_count": null,
      "outputs": [
        {
          "output_type": "error",
          "ename": "ValueError",
          "evalue": "could not convert string to float: 'Returning_Visitor'",
          "traceback": [
            "\u001b[0;31m---------------------------------------------------------------------------\u001b[0m",
            "\u001b[0;31mValueError\u001b[0m                                Traceback (most recent call last)",
            "\u001b[0;32m<ipython-input-22-192b877598e3>\u001b[0m in \u001b[0;36m<cell line: 3>\u001b[0;34m()\u001b[0m\n\u001b[1;32m      1\u001b[0m \u001b[0;31m# Countplot Tipo de Visitante\u001b[0m\u001b[0;34m\u001b[0m\u001b[0;34m\u001b[0m\u001b[0m\n\u001b[1;32m      2\u001b[0m \u001b[0mplt\u001b[0m\u001b[0;34m.\u001b[0m\u001b[0mxlabel\u001b[0m\u001b[0;34m(\u001b[0m\u001b[0;34m\"Tipo de Visitante\"\u001b[0m\u001b[0;34m)\u001b[0m\u001b[0;34m\u001b[0m\u001b[0;34m\u001b[0m\u001b[0m\n\u001b[0;32m----> 3\u001b[0;31m \u001b[0msns\u001b[0m\u001b[0;34m.\u001b[0m\u001b[0mcountplot\u001b[0m\u001b[0;34m(\u001b[0m\u001b[0mdf\u001b[0m\u001b[0;34m[\u001b[0m\u001b[0;34m'VisitorType'\u001b[0m\u001b[0;34m]\u001b[0m\u001b[0;34m)\u001b[0m\u001b[0;34m\u001b[0m\u001b[0;34m\u001b[0m\u001b[0m\n\u001b[0m\u001b[1;32m      4\u001b[0m \u001b[0mdf\u001b[0m\u001b[0;34m[\u001b[0m\u001b[0;34m'VisitorType'\u001b[0m\u001b[0;34m]\u001b[0m \u001b[0;34m=\u001b[0m \u001b[0mdf\u001b[0m\u001b[0;34m[\u001b[0m\u001b[0;34m'VisitorType'\u001b[0m\u001b[0;34m]\u001b[0m\u001b[0;34m.\u001b[0m\u001b[0mastype\u001b[0m\u001b[0;34m(\u001b[0m\u001b[0;34m'category'\u001b[0m\u001b[0;34m)\u001b[0m\u001b[0;34m\u001b[0m\u001b[0;34m\u001b[0m\u001b[0m\n\u001b[1;32m      5\u001b[0m \u001b[0msns\u001b[0m\u001b[0;34m.\u001b[0m\u001b[0mcountplot\u001b[0m\u001b[0;34m(\u001b[0m\u001b[0mdf\u001b[0m\u001b[0;34m[\u001b[0m\u001b[0;34m'VisitorType'\u001b[0m\u001b[0;34m]\u001b[0m\u001b[0;34m)\u001b[0m\u001b[0;34m\u001b[0m\u001b[0;34m\u001b[0m\u001b[0m\n",
            "\u001b[0;32m/usr/local/lib/python3.10/dist-packages/seaborn/categorical.py\u001b[0m in \u001b[0;36mcountplot\u001b[0;34m(data, x, y, hue, order, hue_order, orient, color, palette, saturation, width, dodge, ax, **kwargs)\u001b[0m\n\u001b[1;32m   2941\u001b[0m         \u001b[0;32mraise\u001b[0m \u001b[0mValueError\u001b[0m\u001b[0;34m(\u001b[0m\u001b[0;34m\"Cannot pass values for both `x` and `y`\"\u001b[0m\u001b[0;34m)\u001b[0m\u001b[0;34m\u001b[0m\u001b[0;34m\u001b[0m\u001b[0m\n\u001b[1;32m   2942\u001b[0m \u001b[0;34m\u001b[0m\u001b[0m\n\u001b[0;32m-> 2943\u001b[0;31m     plotter = _CountPlotter(\n\u001b[0m\u001b[1;32m   2944\u001b[0m         \u001b[0mx\u001b[0m\u001b[0;34m,\u001b[0m \u001b[0my\u001b[0m\u001b[0;34m,\u001b[0m \u001b[0mhue\u001b[0m\u001b[0;34m,\u001b[0m \u001b[0mdata\u001b[0m\u001b[0;34m,\u001b[0m \u001b[0morder\u001b[0m\u001b[0;34m,\u001b[0m \u001b[0mhue_order\u001b[0m\u001b[0;34m,\u001b[0m\u001b[0;34m\u001b[0m\u001b[0;34m\u001b[0m\u001b[0m\n\u001b[1;32m   2945\u001b[0m         \u001b[0mestimator\u001b[0m\u001b[0;34m,\u001b[0m \u001b[0merrorbar\u001b[0m\u001b[0;34m,\u001b[0m \u001b[0mn_boot\u001b[0m\u001b[0;34m,\u001b[0m \u001b[0munits\u001b[0m\u001b[0;34m,\u001b[0m \u001b[0mseed\u001b[0m\u001b[0;34m,\u001b[0m\u001b[0;34m\u001b[0m\u001b[0;34m\u001b[0m\u001b[0m\n",
            "\u001b[0;32m/usr/local/lib/python3.10/dist-packages/seaborn/categorical.py\u001b[0m in \u001b[0;36m__init__\u001b[0;34m(self, x, y, hue, data, order, hue_order, estimator, errorbar, n_boot, units, seed, orient, color, palette, saturation, width, errcolor, errwidth, capsize, dodge)\u001b[0m\n\u001b[1;32m   1528\u001b[0m                  errcolor, errwidth, capsize, dodge):\n\u001b[1;32m   1529\u001b[0m         \u001b[0;34m\"\"\"Initialize the plotter.\"\"\"\u001b[0m\u001b[0;34m\u001b[0m\u001b[0;34m\u001b[0m\u001b[0m\n\u001b[0;32m-> 1530\u001b[0;31m         self.establish_variables(x, y, hue, data, orient,\n\u001b[0m\u001b[1;32m   1531\u001b[0m                                  order, hue_order, units)\n\u001b[1;32m   1532\u001b[0m         \u001b[0mself\u001b[0m\u001b[0;34m.\u001b[0m\u001b[0mestablish_colors\u001b[0m\u001b[0;34m(\u001b[0m\u001b[0mcolor\u001b[0m\u001b[0;34m,\u001b[0m \u001b[0mpalette\u001b[0m\u001b[0;34m,\u001b[0m \u001b[0msaturation\u001b[0m\u001b[0;34m)\u001b[0m\u001b[0;34m\u001b[0m\u001b[0;34m\u001b[0m\u001b[0m\n",
            "\u001b[0;32m/usr/local/lib/python3.10/dist-packages/seaborn/categorical.py\u001b[0m in \u001b[0;36mestablish_variables\u001b[0;34m(self, x, y, hue, data, orient, order, hue_order, units)\u001b[0m\n\u001b[1;32m    514\u001b[0m \u001b[0;34m\u001b[0m\u001b[0m\n\u001b[1;32m    515\u001b[0m                 \u001b[0;31m# Convert to a list of arrays, the common representation\u001b[0m\u001b[0;34m\u001b[0m\u001b[0;34m\u001b[0m\u001b[0m\n\u001b[0;32m--> 516\u001b[0;31m                 \u001b[0mplot_data\u001b[0m \u001b[0;34m=\u001b[0m \u001b[0;34m[\u001b[0m\u001b[0mnp\u001b[0m\u001b[0;34m.\u001b[0m\u001b[0masarray\u001b[0m\u001b[0;34m(\u001b[0m\u001b[0md\u001b[0m\u001b[0;34m,\u001b[0m \u001b[0mfloat\u001b[0m\u001b[0;34m)\u001b[0m \u001b[0;32mfor\u001b[0m \u001b[0md\u001b[0m \u001b[0;32min\u001b[0m \u001b[0mplot_data\u001b[0m\u001b[0;34m]\u001b[0m\u001b[0;34m\u001b[0m\u001b[0;34m\u001b[0m\u001b[0m\n\u001b[0m\u001b[1;32m    517\u001b[0m \u001b[0;34m\u001b[0m\u001b[0m\n\u001b[1;32m    518\u001b[0m                 \u001b[0;31m# The group names will just be numeric indices\u001b[0m\u001b[0;34m\u001b[0m\u001b[0;34m\u001b[0m\u001b[0m\n",
            "\u001b[0;32m/usr/local/lib/python3.10/dist-packages/seaborn/categorical.py\u001b[0m in \u001b[0;36m<listcomp>\u001b[0;34m(.0)\u001b[0m\n\u001b[1;32m    514\u001b[0m \u001b[0;34m\u001b[0m\u001b[0m\n\u001b[1;32m    515\u001b[0m                 \u001b[0;31m# Convert to a list of arrays, the common representation\u001b[0m\u001b[0;34m\u001b[0m\u001b[0;34m\u001b[0m\u001b[0m\n\u001b[0;32m--> 516\u001b[0;31m                 \u001b[0mplot_data\u001b[0m \u001b[0;34m=\u001b[0m \u001b[0;34m[\u001b[0m\u001b[0mnp\u001b[0m\u001b[0;34m.\u001b[0m\u001b[0masarray\u001b[0m\u001b[0;34m(\u001b[0m\u001b[0md\u001b[0m\u001b[0;34m,\u001b[0m \u001b[0mfloat\u001b[0m\u001b[0;34m)\u001b[0m \u001b[0;32mfor\u001b[0m \u001b[0md\u001b[0m \u001b[0;32min\u001b[0m \u001b[0mplot_data\u001b[0m\u001b[0;34m]\u001b[0m\u001b[0;34m\u001b[0m\u001b[0;34m\u001b[0m\u001b[0m\n\u001b[0m\u001b[1;32m    517\u001b[0m \u001b[0;34m\u001b[0m\u001b[0m\n\u001b[1;32m    518\u001b[0m                 \u001b[0;31m# The group names will just be numeric indices\u001b[0m\u001b[0;34m\u001b[0m\u001b[0;34m\u001b[0m\u001b[0m\n",
            "\u001b[0;32m/usr/local/lib/python3.10/dist-packages/pandas/core/series.py\u001b[0m in \u001b[0;36m__array__\u001b[0;34m(self, dtype)\u001b[0m\n\u001b[1;32m    891\u001b[0m               dtype='datetime64[ns]')\n\u001b[1;32m    892\u001b[0m         \"\"\"\n\u001b[0;32m--> 893\u001b[0;31m         \u001b[0;32mreturn\u001b[0m \u001b[0mnp\u001b[0m\u001b[0;34m.\u001b[0m\u001b[0masarray\u001b[0m\u001b[0;34m(\u001b[0m\u001b[0mself\u001b[0m\u001b[0;34m.\u001b[0m\u001b[0m_values\u001b[0m\u001b[0;34m,\u001b[0m \u001b[0mdtype\u001b[0m\u001b[0;34m)\u001b[0m\u001b[0;34m\u001b[0m\u001b[0;34m\u001b[0m\u001b[0m\n\u001b[0m\u001b[1;32m    894\u001b[0m \u001b[0;34m\u001b[0m\u001b[0m\n\u001b[1;32m    895\u001b[0m     \u001b[0;31m# ----------------------------------------------------------------------\u001b[0m\u001b[0;34m\u001b[0m\u001b[0;34m\u001b[0m\u001b[0m\n",
            "\u001b[0;31mValueError\u001b[0m: could not convert string to float: 'Returning_Visitor'"
          ]
        },
        {
          "output_type": "display_data",
          "data": {
            "text/plain": [
              "<Figure size 640x480 with 1 Axes>"
            ],
            "image/png": "[encoded data removed]"
          },
          "metadata": {}
        }
      ]
    },
    {
      "cell_type": "code",
      "metadata": {
        "id": "2bNhX_-7guYh"
      },
      "source": [
        "# Stacked Bar Tipo de Visitante x Revenue\n",
        "pd.crosstab(df['VisitorType'], df['Revenue']).plot(kind = 'bar',\n",
        "                                                   stacked = True,\n",
        "                                                   figsize = (20, 5),\n",
        "                                                   color = ['red', 'green'])"
      ],
      "execution_count": null,
      "outputs": []
    },
    {
      "cell_type": "code",
      "metadata": {
        "id": "UNNMwqfHguYk"
      },
      "source": [
        "# Pie Chart Tipos de Visitantes\n",
        "labels = ['Visitante_Retornando', 'Novo_Visitante', 'Outro']\n",
        "plt.title(\"Tipos de Visitantes\")\n",
        "plt.pie(df['VisitorType'].value_counts(), labels = labels, autopct = '%.2f%%')\n",
        "plt.legend()"
      ],
      "execution_count": null,
      "outputs": []
    },
    {
      "cell_type": "code",
      "metadata": {
        "id": "9y_NgPEdguYn"
      },
      "source": [
        "# Countplot Final de Semana ou Não\n",
        "plt.subplot(1,2,1)\n",
        "plt.title(\"Final de Semana ou Não\")\n",
        "sns.countplot(df['Weekend'])"
      ],
      "execution_count": null,
      "outputs": []
    },
    {
      "cell_type": "code",
      "metadata": {
        "id": "Q0wbituaguYq"
      },
      "source": [
        "# Stacked Bar Final de Semana x Revenue\n",
        "pd.crosstab(df['Weekend'], df['Revenue']).plot(kind = 'bar',\n",
        "                                               stacked = True,\n",
        "                                               figsize = (15, 5),\n",
        "                                               color = ['red', 'green'])"
      ],
      "execution_count": null,
      "outputs": []
    },
    {
      "cell_type": "code",
      "metadata": {
        "id": "BifzfabgguYt"
      },
      "source": [
        "# Countplot Tipos de Sistemas Operacionais\n",
        "#plt.figure(figsize = (15,6))\n",
        "plt.title(\"Tipos de Sistemas Operacionais\")\n",
        "plt.xlabel(\"Sistema Operacional Usado\")\n",
        "sns.countplot(df['OperatingSystems'])"
      ],
      "execution_count": null,
      "outputs": []
    },
    {
      "cell_type": "code",
      "metadata": {
        "id": "Oj1u7JNXguYw"
      },
      "source": [
        "# Stacked Bar Tipo de SO x Revenue\n",
        "pd.crosstab(df['OperatingSystems'], df['Revenue']).plot(kind = 'bar',\n",
        "                                                        stacked = True,\n",
        "                                                        figsize = (15, 5),\n",
        "                                                        color = ['red', 'green'])"
      ],
      "execution_count": null,
      "outputs": []
    },
    {
      "cell_type": "code",
      "metadata": {
        "id": "jq9LIHq3guYz"
      },
      "source": [
        "# Countplot Tipo de Tráfego\n",
        "plt.title(\"Tipos de Tráfego\")\n",
        "plt.xlabel(\"Tipo de Tráfego\")\n",
        "sns.countplot(df['TrafficType'])"
      ],
      "execution_count": null,
      "outputs": []
    },
    {
      "cell_type": "code",
      "metadata": {
        "id": "URRUZWVUguY2"
      },
      "source": [
        "# Stacked Bar Tipos de Tráfego x Revenue\n",
        "pd.crosstab(df['TrafficType'], df['Revenue']).plot(kind = 'bar',\n",
        "                                                   stacked = True,\n",
        "                                                   figsize = (15, 5),\n",
        "                                                   color = ['red', 'green'])"
      ],
      "execution_count": null,
      "outputs": []
    },
    {
      "cell_type": "markdown",
      "metadata": {
        "id": "6FYLYCPLQT4f"
      },
      "source": [
        "#3° Pré-Processamento dos Dados"
      ]
    },
    {
      "cell_type": "code",
      "metadata": {
        "id": "Lz5GaqbwguY8"
      },
      "source": [
        "df_original.head()"
      ],
      "execution_count": null,
      "outputs": []
    },
    {
      "cell_type": "code",
      "metadata": {
        "id": "3pKxhmvBguY_"
      },
      "source": [
        "# Cria o encoder\n",
        "lb = LabelEncoder()\n",
        "\n",
        "# Aplica o encoder nas variáveis que estão com string\n",
        "df_original['Month'] = lb.fit_transform(df_original['Month'])\n",
        "df_original['VisitorType'] = lb.fit_transform(df_original['VisitorType'])\n",
        "\n",
        "# Remove valores missing eventualmente gerados\n",
        "df_original.dropna(inplace = True)"
      ],
      "execution_count": null,
      "outputs": []
    },
    {
      "cell_type": "code",
      "metadata": {
        "id": "7BIDAyqGguZC"
      },
      "source": [
        "df_original.head(100)"
      ],
      "execution_count": null,
      "outputs": []
    },
    {
      "cell_type": "code",
      "metadata": {
        "id": "yhaABctEguZE"
      },
      "source": [
        "# Shape\n",
        "df_original.shape"
      ],
      "execution_count": null,
      "outputs": []
    },
    {
      "cell_type": "code",
      "metadata": {
        "id": "jDAtWIm1guZI"
      },
      "source": [
        "# Verificando se a variável resposta está balanceada\n",
        "target_count = df_original.Revenue.value_counts()\n",
        "target_count"
      ],
      "execution_count": null,
      "outputs": []
    },
    {
      "cell_type": "code",
      "metadata": {
        "id": "_Cu4YgXvguZK"
      },
      "source": [
        "# Plot\n",
        "sns.countplot(df_original.Revenue, palette = \"OrRd\")\n",
        "plt.box(False)\n",
        "plt.xlabel('Receita (Revenue) Por Sessão Não (0) / Sim (1)', fontsize = 11)\n",
        "plt.ylabel('Total Sessões', fontsize = 11)\n",
        "plt.title('Contagem de Classes\\n')\n",
        "plt.show()"
      ],
      "execution_count": null,
      "outputs": []
    },
    {
      "cell_type": "code",
      "metadata": {
        "id": "q62kEAuHguZP"
      },
      "source": [
        "# Instala e importa o pacote imblearn - Aplicar o balanceamento da variável resposta\n",
        "!pip install -q imblearn\n",
        "import imblearn"
      ],
      "execution_count": null,
      "outputs": []
    },
    {
      "cell_type": "code",
      "metadata": {
        "id": "oAFq7mwSguZU"
      },
      "source": [
        "# Versões dos pacotes usados neste jupyter notebook\n",
        "%reload_ext watermark\n",
        "%watermark -a \"Ciência dos Dados\" --iversions"
      ],
      "execution_count": null,
      "outputs": []
    },
    {
      "cell_type": "code",
      "metadata": {
        "id": "1WxQdVnPguZY"
      },
      "source": [
        "# Shape\n",
        "df_original.shape"
      ],
      "execution_count": null,
      "outputs": []
    },
    {
      "cell_type": "code",
      "metadata": {
        "id": "Ke63dbRFguZc"
      },
      "source": [
        "# Variáveis explicativas\n",
        "df_original.iloc[:, 0:17].head()"
      ],
      "execution_count": null,
      "outputs": []
    },
    {
      "cell_type": "code",
      "metadata": {
        "id": "FEbQSmM8guZe"
      },
      "source": [
        "# Variável Target\n",
        "df_original.iloc[:, 17].head()"
      ],
      "execution_count": null,
      "outputs": []
    },
    {
      "cell_type": "markdown",
      "metadata": {
        "id": "gmYyEW0rguZk"
      },
      "source": [
        "**Balanceamento de Classe - Oversampling**"
      ]
    },
    {
      "cell_type": "code",
      "metadata": {
        "id": "M2GKcE-GguZl"
      },
      "source": [
        "# Importa a função\n",
        "from imblearn.over_sampling import SMOTE\n",
        "\n",
        "# Seed para reproduzir o mesmo resultado\n",
        "seed = 7\n",
        "\n",
        "# Separa X e y\n",
        "X = df_original.iloc[:, 0:17]\n",
        "y = df_original.iloc[:, 17]\n",
        "\n",
        "# Cria o balanceador SMOTE\n",
        "smote_bal = SMOTE(random_state = seed)\n",
        "\n",
        "# Aplica o balanceador\n",
        "X_res, y_res = smote_bal.fit_resample(X, y)"
      ],
      "execution_count": null,
      "outputs": []
    },
    {
      "cell_type": "code",
      "metadata": {
        "id": "WC8wg9HmguZo"
      },
      "source": [
        "# Plot\n",
        "sns.countplot(y_res, palette = \"OrRd\")\n",
        "plt.box(False)\n",
        "plt.xlabel('Receita (Revenue) Por Sessão Não (0) / Sim (1)', fontsize = 11)\n",
        "plt.ylabel('Total Sessões', fontsize = 11)\n",
        "plt.title('Contagem de Classes\\n')\n",
        "plt.show()"
      ],
      "execution_count": null,
      "outputs": []
    },
    {
      "cell_type": "code",
      "metadata": {
        "id": "bJO4YYjQguZr"
      },
      "source": [
        "# Shape dos dados originais\n",
        "df_original.shape"
      ],
      "execution_count": null,
      "outputs": []
    },
    {
      "cell_type": "code",
      "metadata": {
        "id": "s216ltluguZv"
      },
      "source": [
        "# Shape dos dados reamostrados\n",
        "X_res.shape"
      ],
      "execution_count": null,
      "outputs": []
    },
    {
      "cell_type": "code",
      "metadata": {
        "id": "rI0cnbwKguZz"
      },
      "source": [
        "# Shape dos dados reamostrados\n",
        "y_res.shape"
      ],
      "execution_count": null,
      "outputs": []
    },
    {
      "cell_type": "code",
      "metadata": {
        "id": "dYgH-iWbguZ2"
      },
      "source": [
        "# Ajustando X e y\n",
        "X = X_res\n",
        "y = y_res"
      ],
      "execution_count": null,
      "outputs": []
    },
    {
      "cell_type": "code",
      "metadata": {
        "id": "EO9K7ZViguZ4"
      },
      "source": [
        "# Divisão em Dados de Treino e Teste.\n",
        "X_treino, X_teste, y_treino, y_teste = train_test_split(X, y, test_size = 0.3, random_state = 7)"
      ],
      "execution_count": null,
      "outputs": []
    },
    {
      "cell_type": "markdown",
      "metadata": {
        "id": "8-Vspe-DQhrq"
      },
      "source": [
        "#4° Construção da Máquina Preditiva"
      ]
    },
    {
      "cell_type": "markdown",
      "metadata": {
        "id": "2mdvE6dyguaZ"
      },
      "source": [
        "### Modelo Baseline com Kernel Linear e Dados Padronizados (Scaled)"
      ]
    },
    {
      "cell_type": "code",
      "metadata": {
        "id": "eZMRYBaeguad"
      },
      "source": [
        "# Padronização\n",
        "sc = StandardScaler()\n",
        "X_treino_scaled = sc.fit_transform(X_treino)\n",
        "X_teste_scaled = sc.transform(X_teste)"
      ],
      "execution_count": null,
      "outputs": []
    },
    {
      "cell_type": "markdown",
      "metadata": {
        "id": "uDAPySB9guaj"
      },
      "source": [
        "***Observação:***\n",
        "\n",
        "Para impedir que as informações sobre a distribuição do conjunto de teste vazem em seu modelo, o ideal é aplicar a padronização em separado nos dados de treino e de teste, ajustando o redimensionador apenas aos dados de treinamento, padronizando então os conjuntos de treinamento e teste com esse redimensionador (exatamente como está na célula acima). Ao ajustar o redimensionador no conjunto de dados completo antes da divisão em treino e teste, informações sobre o conjunto de testes são usadas para transformar o conjunto de treinamento.\n",
        "\n",
        "Conhecer a distribuição de todo o conjunto de dados pode influenciar como você detecta e processa outliers, bem como como você parametriza seu modelo. Embora os dados em si não sejam expostos, há informações sobre a distribuição dos dados. Como resultado, o desempenho do seu conjunto de testes não é uma estimativa real do desempenho em dados invisíveis.\n",
        "\n",
        "**Sempre aplique a padronização depois de fazer a divisão em treino e teste**, exatamente como fizemos aqui. Usamos fit_transform() nos dados de treino e transform() nos dados de teste quando usamos o StandardScaler()."
      ]
    },
    {
      "cell_type": "code",
      "metadata": {
        "id": "O4fNmyCMguak"
      },
      "source": [
        "X_treino_scaled"
      ],
      "execution_count": null,
      "outputs": []
    },
    {
      "cell_type": "code",
      "metadata": {
        "id": "rXziOuoZguao"
      },
      "source": [
        "X_teste_scaled"
      ],
      "execution_count": null,
      "outputs": []
    },
    {
      "cell_type": "code",
      "metadata": {
        "id": "2sIncINaguat"
      },
      "source": [
        "# Cria o modelo\n",
        "modelo_v1 = svm.SVC(kernel = 'linear')"
      ],
      "execution_count": null,
      "outputs": []
    },
    {
      "cell_type": "code",
      "metadata": {
        "id": "nKzskr-rguaw"
      },
      "source": [
        "# Treinamento\n",
        "start = time.time()\n",
        "modelo_v1.fit(X_treino_scaled, y_treino)\n",
        "end = time.time()\n",
        "print('Tempo de Treinamento do Modelo foi de :', end - start)"
      ],
      "execution_count": null,
      "outputs": []
    },
    {
      "cell_type": "code",
      "metadata": {
        "id": "XpVDHx0Vguay"
      },
      "source": [
        "# Previsões\n",
        "previsoes_v1 = modelo_v1.predict(X_teste_scaled)"
      ],
      "execution_count": null,
      "outputs": []
    },
    {
      "cell_type": "markdown",
      "metadata": {
        "id": "X2LRojybSYuY"
      },
      "source": [
        "#5° Avaliação da Máquina Preditiva"
      ]
    },
    {
      "cell_type": "code",
      "metadata": {
        "id": "j0kwGfbogua0"
      },
      "source": [
        "# Dicionário de métricas e metadados\n",
        "SVM_dict_v1 = {'Modelo':'SVM',\n",
        "               'Versão':'1',\n",
        "               'Kernel':'Linear com Dados Padronizados',\n",
        "               'Precision':precision_score(previsoes_v1, y_teste),\n",
        "               'Recall':recall_score(previsoes_v1, y_teste),\n",
        "               'F1 Score':f1_score(previsoes_v1, y_teste),\n",
        "               'Acurácia':accuracy_score(previsoes_v1, y_teste),\n",
        "               'AUC':roc_auc_score(y_teste, previsoes_v1)}"
      ],
      "execution_count": null,
      "outputs": []
    },
    {
      "cell_type": "code",
      "metadata": {
        "id": "dZv2iNFvgua1"
      },
      "source": [
        "# Print\n",
        "print(\"Métricas em Teste:\\n\")\n",
        "SVM_dict_v1"
      ],
      "execution_count": null,
      "outputs": []
    },
    {
      "cell_type": "markdown",
      "metadata": {
        "id": "CNKx7TLugua3"
      },
      "source": [
        "### Otimização de Hiperparâmetros com Grid Search e Kernel RBF"
      ]
    },
    {
      "cell_type": "markdown",
      "metadata": {
        "id": "LTF1PxnRYtYs"
      },
      "source": [
        "#### Como escolher a faixa de valores dos Hyperparâmetros?\n",
        "\n",
        "É necessário entender como os valores alteram o resultado. Para isso, a documentação dos algoritmos tem as informações necessárias para você escolher os valores iniciais e depois partir para novos testes e novos valores a serem considerados.\n",
        "\n",
        "https://scikit-learn.org/stable/auto_examples/svm/plot_rbf_parameters.html"
      ]
    },
    {
      "cell_type": "code",
      "metadata": {
        "id": "TBxI4ROggua4"
      },
      "source": [
        "# Cria o modelo\n",
        "modelo_v2 = svm.SVC(kernel = 'rbf')\n",
        "\n"
      ],
      "execution_count": null,
      "outputs": []
    },
    {
      "cell_type": "code",
      "metadata": {
        "id": "CMHj7veE3CWr"
      },
      "source": [
        "# Valores para o grid\n",
        "C_range = np.array([50., 100., 200.])\n",
        "gamma_range = np.array([0.3*0.001,0.001,3*0.001])\n",
        "\n"
      ],
      "execution_count": null,
      "outputs": []
    },
    {
      "cell_type": "code",
      "metadata": {
        "id": "H5Pyo3YY3Eih"
      },
      "source": [
        "# Grid de hiperparâmetros\n",
        "svm_param_grid = dict(gamma = gamma_range, C = C_range)\n",
        "\n"
      ],
      "execution_count": null,
      "outputs": []
    },
    {
      "cell_type": "code",
      "metadata": {
        "id": "nKwZmJSe3hb3"
      },
      "source": [
        "# Grid Search\n",
        "start = time.time()\n",
        "modelo_v2_grid_search_rbf = GridSearchCV(modelo_v2, svm_param_grid, cv = 3)\n",
        "\n"
      ],
      "execution_count": null,
      "outputs": []
    },
    {
      "cell_type": "code",
      "metadata": {
        "id": "iXQiKZXM3i0Y"
      },
      "source": [
        "# Treinamento\n",
        "modelo_v2_grid_search_rbf.fit(X_treino_scaled, y_treino)\n",
        "end = time.time()\n",
        "print('Tempo de Treinamento do Modelo com Grid Search:', end - start)\n",
        "\n"
      ],
      "execution_count": null,
      "outputs": []
    },
    {
      "cell_type": "code",
      "metadata": {
        "id": "oIEpCIIT3zXJ"
      },
      "source": [
        "# Acurácia em Treino\n",
        "print(f\"Acurácia em Treinamento: {modelo_v2_grid_search_rbf.best_score_ :.2%}\")\n",
        "print(\"\")\n",
        "print(f\"Hiperparâmetros Ideais: {modelo_v2_grid_search_rbf.best_params_}\")"
      ],
      "execution_count": null,
      "outputs": []
    },
    {
      "cell_type": "code",
      "metadata": {
        "id": "A925kFHYgua6"
      },
      "source": [
        "# Previsões\n",
        "previsoes_v2 = modelo_v2_grid_search_rbf.predict(X_teste_scaled)"
      ],
      "execution_count": null,
      "outputs": []
    },
    {
      "cell_type": "code",
      "metadata": {
        "id": "gqrH_OHHgua8"
      },
      "source": [
        "# Dicionário de métricas e metadados\n",
        "SVM_dict_v2 = {'Modelo':'SVM',\n",
        "               'Versão':'2',\n",
        "               'Kernel':'RBF com Tunning de Hyperparâmetros',\n",
        "               'Precision':precision_score(previsoes_v2, y_teste),\n",
        "               'Recall':recall_score(previsoes_v2, y_teste),\n",
        "               'F1 Score':f1_score(previsoes_v2, y_teste),\n",
        "               'Acurácia':accuracy_score(previsoes_v2, y_teste),\n",
        "               'AUC':roc_auc_score(y_teste, previsoes_v2)}"
      ],
      "execution_count": null,
      "outputs": []
    },
    {
      "cell_type": "code",
      "metadata": {
        "id": "ulwskou3gua9"
      },
      "source": [
        "# Print\n",
        "print(\"Métricas em Teste:\\n\")\n",
        "SVM_dict_v2"
      ],
      "execution_count": null,
      "outputs": []
    },
    {
      "cell_type": "code",
      "metadata": {
        "id": "U0GItqAMgubN"
      },
      "source": [
        "# Concatena todos os dicionários em um dataframe do Pandas\n",
        "resumo = pd.DataFrame({'Baseline':pd.Series(SVM_dict_v1),\n",
        "                       'Máquina_Preditiva':pd.Series(SVM_dict_v2)})"
      ],
      "execution_count": null,
      "outputs": []
    },
    {
      "cell_type": "code",
      "metadata": {
        "id": "wXErP7xagubP"
      },
      "source": [
        "# Print\n",
        "resumo"
      ],
      "execution_count": null,
      "outputs": []
    },
    {
      "cell_type": "markdown",
      "metadata": {
        "id": "tvtj8WvJaOIg"
      },
      "source": [
        "![alt text](data:image/png;base64,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)\n",
        "\n",
        "\n"
      ]
    },
    {
      "cell_type": "markdown",
      "metadata": {
        "id": "XTRc7NjBKG65"
      },
      "source": [
        "# Fim"
      ]
    },
    {
      "cell_type": "markdown",
      "metadata": {
        "id": "_fHqFSvWe94c"
      },
      "source": [
        "## Valeu!"
      ]
    },
    {
      "cell_type": "markdown",
      "metadata": {
        "id": "2r1o8LDDzj16"
      },
      "source": [
        "### #Links - Ciencia dos Dados <a href=\"https://linktr.ee/cienciadosdados\">https://linktr.ee/cienciadosdados</a>"
      ]
    }
  ]
}